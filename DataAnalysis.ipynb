{
 "cells": [
  {
   "cell_type": "markdown",
   "id": "dcd9558f",
   "metadata": {},
   "source": [
    "<!-- # Overview\n",
    "- Project\n",
    "    - data engineer \n",
    "        - keep acceptable sessions\n",
    "        - create prediction classes and eliminate end of each session\n",
    "        - make same input size for rnn\n",
    "        - add features if this is suitable\n",
    "    - code each rnn\n",
    "        - vanilla rnn\n",
    "        - lstm\n",
    "        - gru -->"
   ]
  },
  {
   "cell_type": "markdown",
   "id": "8f9df30d",
   "metadata": {},
   "source": [
    "# Overview\n"
   ]
  },
  {
   "cell_type": "markdown",
   "id": "5d865010",
   "metadata": {},
   "source": [
    "# Imports"
   ]
  },
  {
   "cell_type": "code",
   "execution_count": 1,
   "id": "bc8176e6",
   "metadata": {},
   "outputs": [],
   "source": [
    "# manipulating data\n",
    "import pandas as pd\n",
    "import numpy as np\n",
    "\n",
    "# data analysis\n",
    "import matplotlib.pyplot as plt \n",
    "import seaborn as sns"
   ]
  },
  {
   "cell_type": "markdown",
   "id": "f873b681",
   "metadata": {},
   "source": [
    "# Data Engineering\n",
    "#### Will be done with Pandas"
   ]
  },
  {
   "cell_type": "markdown",
   "id": "521d8a82",
   "metadata": {},
   "source": [
    "## Load Data"
   ]
  },
  {
   "cell_type": "code",
   "execution_count": 2,
   "id": "1efe7391",
   "metadata": {},
   "outputs": [],
   "source": [
    "# global path to data (varies for user)\n",
    "data_path = './shopper_data/release_10_23_2020.csv'\n",
    "\n",
    "# load dataset\n",
    "df = pd.read_csv(data_path)\n"
   ]
  },
  {
   "cell_type": "code",
   "execution_count": 3,
   "id": "774c0816",
   "metadata": {},
   "outputs": [],
   "source": [
    "# get column names\n",
    "col_names = [c for c in df.columns]\n",
    "features = col_names[:-1]\n",
    "\n",
    "# sepearate column names into categorical and numerical\n",
    "cat_cols = []\n",
    "numer_cols = []\n",
    "\n",
    "for col in col_names:\n",
    "    if df[col].dtype == 'O':\n",
    "        cat_cols.append(col)\n",
    "    else:\n",
    "        numer_cols.append(col)"
   ]
  },
  {
   "cell_type": "markdown",
   "id": "08e33980",
   "metadata": {},
   "source": [
    "## Initial Data Examination"
   ]
  },
  {
   "cell_type": "code",
   "execution_count": 4,
   "id": "c15a4d62",
   "metadata": {},
   "outputs": [
    {
     "data": {
      "text/html": [
       "<div>\n",
       "<style scoped>\n",
       "    .dataframe tbody tr th:only-of-type {\n",
       "        vertical-align: middle;\n",
       "    }\n",
       "\n",
       "    .dataframe tbody tr th {\n",
       "        vertical-align: top;\n",
       "    }\n",
       "\n",
       "    .dataframe thead th {\n",
       "        text-align: right;\n",
       "    }\n",
       "</style>\n",
       "<table border=\"1\" class=\"dataframe\">\n",
       "  <thead>\n",
       "    <tr style=\"text-align: right;\">\n",
       "      <th></th>\n",
       "      <th>session_id_hash</th>\n",
       "      <th>event_type</th>\n",
       "      <th>product_action</th>\n",
       "      <th>product_skus_hash</th>\n",
       "      <th>server_timestamp_epoch_ms</th>\n",
       "      <th>hashed_url</th>\n",
       "    </tr>\n",
       "  </thead>\n",
       "  <tbody>\n",
       "    <tr>\n",
       "      <th>0</th>\n",
       "      <td>00000005c19449b57d8d05dfc8b5474be0654032</td>\n",
       "      <td>pageview</td>\n",
       "      <td>NaN</td>\n",
       "      <td>NaN</td>\n",
       "      <td>1544469996111</td>\n",
       "      <td>da99729886aff70a02733b6cd69ee7df35622d9302347e...</td>\n",
       "    </tr>\n",
       "    <tr>\n",
       "      <th>1</th>\n",
       "      <td>00006a0ada94a5186163a25e9ed9c94481c820d9</td>\n",
       "      <td>pageview</td>\n",
       "      <td>NaN</td>\n",
       "      <td>NaN</td>\n",
       "      <td>1545737959865</td>\n",
       "      <td>e2f7e0cee4272e804f0d323a3513dd01716a5a40ab9abf...</td>\n",
       "    </tr>\n",
       "    <tr>\n",
       "      <th>2</th>\n",
       "      <td>00007d15aeb741b3cdd873cb3933351d699cc320</td>\n",
       "      <td>pageview</td>\n",
       "      <td>NaN</td>\n",
       "      <td>NaN</td>\n",
       "      <td>1544908835402</td>\n",
       "      <td>ea7b2493be61ff454f8cce412f9dc281e605daec8c43b5...</td>\n",
       "    </tr>\n",
       "    <tr>\n",
       "      <th>3</th>\n",
       "      <td>00007d15aeb741b3cdd873cb3933351d699cc320</td>\n",
       "      <td>pageview</td>\n",
       "      <td>NaN</td>\n",
       "      <td>NaN</td>\n",
       "      <td>1544908847263</td>\n",
       "      <td>ea7b2493be61ff454f8cce412f9dc281e605daec8c43b5...</td>\n",
       "    </tr>\n",
       "    <tr>\n",
       "      <th>4</th>\n",
       "      <td>00007d15aeb741b3cdd873cb3933351d699cc320</td>\n",
       "      <td>pageview</td>\n",
       "      <td>detail</td>\n",
       "      <td>90add4dd072e160034e98ddea257e0b59441eae00d8955...</td>\n",
       "      <td>1544909035879</td>\n",
       "      <td>8fa1ecf31ececb27ebe9c529966f3d1f907542fe138d5d...</td>\n",
       "    </tr>\n",
       "  </tbody>\n",
       "</table>\n",
       "</div>"
      ],
      "text/plain": [
       "                            session_id_hash event_type product_action  \\\n",
       "0  00000005c19449b57d8d05dfc8b5474be0654032   pageview            NaN   \n",
       "1  00006a0ada94a5186163a25e9ed9c94481c820d9   pageview            NaN   \n",
       "2  00007d15aeb741b3cdd873cb3933351d699cc320   pageview            NaN   \n",
       "3  00007d15aeb741b3cdd873cb3933351d699cc320   pageview            NaN   \n",
       "4  00007d15aeb741b3cdd873cb3933351d699cc320   pageview         detail   \n",
       "\n",
       "                                   product_skus_hash  \\\n",
       "0                                                NaN   \n",
       "1                                                NaN   \n",
       "2                                                NaN   \n",
       "3                                                NaN   \n",
       "4  90add4dd072e160034e98ddea257e0b59441eae00d8955...   \n",
       "\n",
       "   server_timestamp_epoch_ms  \\\n",
       "0              1544469996111   \n",
       "1              1545737959865   \n",
       "2              1544908835402   \n",
       "3              1544908847263   \n",
       "4              1544909035879   \n",
       "\n",
       "                                          hashed_url  \n",
       "0  da99729886aff70a02733b6cd69ee7df35622d9302347e...  \n",
       "1  e2f7e0cee4272e804f0d323a3513dd01716a5a40ab9abf...  \n",
       "2  ea7b2493be61ff454f8cce412f9dc281e605daec8c43b5...  \n",
       "3  ea7b2493be61ff454f8cce412f9dc281e605daec8c43b5...  \n",
       "4  8fa1ecf31ececb27ebe9c529966f3d1f907542fe138d5d...  "
      ]
     },
     "execution_count": 4,
     "metadata": {},
     "output_type": "execute_result"
    }
   ],
   "source": [
    "df.head()"
   ]
  },
  {
   "cell_type": "code",
   "execution_count": 5,
   "id": "30a2914b",
   "metadata": {},
   "outputs": [
    {
     "name": "stdout",
     "output_type": "stream",
     "text": [
      "<class 'pandas.core.frame.DataFrame'>\n",
      "RangeIndex: 5433611 entries, 0 to 5433610\n",
      "Data columns (total 6 columns):\n",
      " #   Column                     Dtype \n",
      "---  ------                     ----- \n",
      " 0   session_id_hash            object\n",
      " 1   event_type                 object\n",
      " 2   product_action             object\n",
      " 3   product_skus_hash          object\n",
      " 4   server_timestamp_epoch_ms  int64 \n",
      " 5   hashed_url                 object\n",
      "dtypes: int64(1), object(5)\n",
      "memory usage: 248.7+ MB\n"
     ]
    }
   ],
   "source": [
    "df.info()"
   ]
  },
  {
   "cell_type": "markdown",
   "id": "9f2bea69",
   "metadata": {},
   "source": [
    "#### NAN values in each column"
   ]
  },
  {
   "cell_type": "code",
   "execution_count": 6,
   "id": "8385d9b4",
   "metadata": {},
   "outputs": [
    {
     "data": {
      "text/plain": [
       "session_id_hash                    0\n",
       "event_type                         0\n",
       "product_action               2918789\n",
       "product_skus_hash            3547557\n",
       "server_timestamp_epoch_ms          0\n",
       "hashed_url                         0\n",
       "dtype: int64"
      ]
     },
     "execution_count": 6,
     "metadata": {},
     "output_type": "execute_result"
    }
   ],
   "source": [
    "df.isna().sum()"
   ]
  },
  {
   "cell_type": "markdown",
   "id": "05e33c14",
   "metadata": {},
   "source": [
    "#### Value Counts (for reasonable number of classes)"
   ]
  },
  {
   "cell_type": "code",
   "execution_count": 7,
   "id": "0f02b606",
   "metadata": {},
   "outputs": [
    {
     "name": "stdout",
     "output_type": "stream",
     "text": [
      "Number of Unique Values for each Categoical Column:\n",
      "\n",
      "session_id_hash:  443660\n",
      "\n",
      "\n",
      "event_type:  2\n",
      "\t\n",
      "pageview    4565253\n",
      "event        868358\n",
      "Name: event_type, dtype: int64\n",
      "\n",
      "\n",
      "product_action:  6\n",
      "\t\n",
      "detail      1640190\n",
      "add          743363\n",
      "click         69831\n",
      "remove        51512\n",
      "purchase       9926\n",
      "Name: product_action, dtype: int64\n",
      "\n",
      "\n",
      "product_skus_hash:  38345\n",
      "\n",
      "\n",
      "hashed_url:  256598\n",
      "\n",
      "\n"
     ]
    }
   ],
   "source": [
    "print(\"Number of Unique Values for each Categoical Column:\\n\")\n",
    "num_unique = []\n",
    "for col in cat_cols:\n",
    "    num_unique.append(len(df[col].unique()))\n",
    "    print(\"{}: \".format(col), num_unique[-1])\n",
    "    if num_unique[-1] < 100:\n",
    "        print('\\t')\n",
    "        print(df[col].value_counts())\n",
    "    print('\\n')"
   ]
  },
  {
   "cell_type": "code",
   "execution_count": 9,
   "id": "f5d3bbbd",
   "metadata": {},
   "outputs": [
    {
     "name": "stdout",
     "output_type": "stream",
     "text": [
      "Number of unique sessions: 443660 \n",
      "\n"
     ]
    }
   ],
   "source": [
    "print('Number of unique sessions: {} \\n'.format(len(df['session_id_hash'].unique())))"
   ]
  },
  {
   "cell_type": "markdown",
   "id": "c916738d",
   "metadata": {},
   "source": [
    "## Handle NaN Values\n",
    "- product action\n",
    "- product_skus_hash"
   ]
  },
  {
   "cell_type": "code",
   "execution_count": 10,
   "id": "23c780b7",
   "metadata": {},
   "outputs": [
    {
     "data": {
      "text/plain": [
       "session_id_hash                    0\n",
       "event_type                         0\n",
       "product_action               2918789\n",
       "product_skus_hash            3547557\n",
       "server_timestamp_epoch_ms          0\n",
       "hashed_url                         0\n",
       "dtype: int64"
      ]
     },
     "execution_count": 10,
     "metadata": {},
     "output_type": "execute_result"
    }
   ],
   "source": [
    "# No values should be NaN\n",
    "df.isna().sum()"
   ]
  },
  {
   "cell_type": "markdown",
   "id": "5ee43cc0",
   "metadata": {},
   "source": [
    "# Data Analysis"
   ]
  },
  {
   "cell_type": "code",
   "execution_count": 11,
   "id": "26429da1",
   "metadata": {},
   "outputs": [
    {
     "ename": "AttributeError",
     "evalue": "'DataFrame' object has no attribute 'time_sitting'",
     "output_type": "error",
     "traceback": [
      "\u001b[0;31m---------------------------------------------------------------------------\u001b[0m",
      "\u001b[0;31mAttributeError\u001b[0m                            Traceback (most recent call last)",
      "\u001b[0;32m<ipython-input-11-fefe62f76691>\u001b[0m in \u001b[0;36m<module>\u001b[0;34m\u001b[0m\n\u001b[0;32m----> 1\u001b[0;31m \u001b[0mx\u001b[0m \u001b[0;34m=\u001b[0m \u001b[0mdf\u001b[0m\u001b[0;34m.\u001b[0m\u001b[0mtime_sitting\u001b[0m\u001b[0;34m\u001b[0m\u001b[0;34m\u001b[0m\u001b[0m\n\u001b[0m\u001b[1;32m      2\u001b[0m \u001b[0mplt\u001b[0m\u001b[0;34m.\u001b[0m\u001b[0mhist\u001b[0m\u001b[0;34m(\u001b[0m\u001b[0mx\u001b[0m\u001b[0;34m,\u001b[0m \u001b[0mbins\u001b[0m\u001b[0;34m=\u001b[0m\u001b[0;36m30\u001b[0m\u001b[0;34m,\u001b[0m \u001b[0mrange\u001b[0m\u001b[0;34m=\u001b[0m\u001b[0;34m(\u001b[0m\u001b[0mx\u001b[0m\u001b[0;34m.\u001b[0m\u001b[0mmin\u001b[0m\u001b[0;34m(\u001b[0m\u001b[0;34m)\u001b[0m\u001b[0;34m,\u001b[0m \u001b[0;36m0.4\u001b[0m\u001b[0;34m)\u001b[0m\u001b[0;34m)\u001b[0m\u001b[0;34m\u001b[0m\u001b[0;34m\u001b[0m\u001b[0m\n",
      "\u001b[0;32m~/opt/anaconda3/lib/python3.8/site-packages/pandas/core/generic.py\u001b[0m in \u001b[0;36m__getattr__\u001b[0;34m(self, name)\u001b[0m\n\u001b[1;32m   5463\u001b[0m             \u001b[0;32mif\u001b[0m \u001b[0mself\u001b[0m\u001b[0;34m.\u001b[0m\u001b[0m_info_axis\u001b[0m\u001b[0;34m.\u001b[0m\u001b[0m_can_hold_identifiers_and_holds_name\u001b[0m\u001b[0;34m(\u001b[0m\u001b[0mname\u001b[0m\u001b[0;34m)\u001b[0m\u001b[0;34m:\u001b[0m\u001b[0;34m\u001b[0m\u001b[0;34m\u001b[0m\u001b[0m\n\u001b[1;32m   5464\u001b[0m                 \u001b[0;32mreturn\u001b[0m \u001b[0mself\u001b[0m\u001b[0;34m[\u001b[0m\u001b[0mname\u001b[0m\u001b[0;34m]\u001b[0m\u001b[0;34m\u001b[0m\u001b[0;34m\u001b[0m\u001b[0m\n\u001b[0;32m-> 5465\u001b[0;31m             \u001b[0;32mreturn\u001b[0m \u001b[0mobject\u001b[0m\u001b[0;34m.\u001b[0m\u001b[0m__getattribute__\u001b[0m\u001b[0;34m(\u001b[0m\u001b[0mself\u001b[0m\u001b[0;34m,\u001b[0m \u001b[0mname\u001b[0m\u001b[0;34m)\u001b[0m\u001b[0;34m\u001b[0m\u001b[0;34m\u001b[0m\u001b[0m\n\u001b[0m\u001b[1;32m   5466\u001b[0m \u001b[0;34m\u001b[0m\u001b[0m\n\u001b[1;32m   5467\u001b[0m     \u001b[0;32mdef\u001b[0m \u001b[0m__setattr__\u001b[0m\u001b[0;34m(\u001b[0m\u001b[0mself\u001b[0m\u001b[0;34m,\u001b[0m \u001b[0mname\u001b[0m\u001b[0;34m:\u001b[0m \u001b[0mstr\u001b[0m\u001b[0;34m,\u001b[0m \u001b[0mvalue\u001b[0m\u001b[0;34m)\u001b[0m \u001b[0;34m->\u001b[0m \u001b[0;32mNone\u001b[0m\u001b[0;34m:\u001b[0m\u001b[0;34m\u001b[0m\u001b[0;34m\u001b[0m\u001b[0m\n",
      "\u001b[0;31mAttributeError\u001b[0m: 'DataFrame' object has no attribute 'time_sitting'"
     ]
    }
   ],
   "source": [
    "x = df.time_sitting\n",
    "plt.hist(x, bins=30, range=(x.min(), 0.4))"
   ]
  },
  {
   "cell_type": "code",
   "execution_count": null,
   "id": "aac91347",
   "metadata": {},
   "outputs": [],
   "source": [
    "x1 = df.day\n",
    "x2 = df.hour\n",
    "x3 = df.minute\n",
    "\n",
    "\n",
    "# Set the second subplot as active, and make the second plot. \n",
    "plt.subplot(3, 1, 1) \n",
    "plt.hist(x1) \n",
    "plt.title('Day')  \n",
    "\n",
    "# Make the third plot \n",
    "plt.subplot(3, 1, 2) \n",
    "plt.hist(x2) \n",
    "plt.title('Hour')  \n",
    "\n",
    "# Make the fourth plot \n",
    "plt.subplot(3, 1, 3) \n",
    "plt.hist(x3) \n",
    "plt.title('Minute') \n",
    "   \n",
    "# Show the figure. \n",
    "plt.show()"
   ]
  },
  {
   "cell_type": "code",
   "execution_count": null,
   "id": "9319811e",
   "metadata": {},
   "outputs": [],
   "source": []
  },
  {
   "cell_type": "code",
   "execution_count": null,
   "id": "d1c5587f",
   "metadata": {},
   "outputs": [],
   "source": []
  },
  {
   "cell_type": "code",
   "execution_count": null,
   "id": "daeb0170",
   "metadata": {},
   "outputs": [],
   "source": []
  }
 ],
 "metadata": {
  "kernelspec": {
   "display_name": "Python 3",
   "language": "python",
   "name": "python3"
  },
  "language_info": {
   "codemirror_mode": {
    "name": "ipython",
    "version": 3
   },
   "file_extension": ".py",
   "mimetype": "text/x-python",
   "name": "python",
   "nbconvert_exporter": "python",
   "pygments_lexer": "ipython3",
   "version": "3.8.8"
  }
 },
 "nbformat": 4,
 "nbformat_minor": 5
}
