{
 "cells": [
  {
   "cell_type": "markdown",
   "id": "dcd9558f",
   "metadata": {},
   "source": [
    "<!-- # Overview\n",
    "- Project\n",
    "    - data engineer \n",
    "        - keep acceptable sessions\n",
    "        - create prediction classes and eliminate end of each session\n",
    "        - make same input size for rnn\n",
    "        - add features if this is suitable\n",
    "    - code each rnn\n",
    "        - vanilla rnn\n",
    "        - lstm\n",
    "        - gru -->"
   ]
  },
  {
   "cell_type": "markdown",
   "id": "8f9df30d",
   "metadata": {},
   "source": [
    "# Overview\n",
    "- Data Engineering\n",
    "    - Load Data\n",
    "    - Initial Data Examination\n",
    "    - Dataset for Sessions for Entire Session Prediction Problem\n",
    "        - Remove inacceptable sessions\n",
    "        - add label\n",
    "    - (Dataset for Sessions for Early Session Prediction Problem)\n",
    "        - Remove inacceptable sessions\n",
    "        - add label\n",
    "    - Handle NaN Values\n",
    "    - Feature Encoding\n",
    "    - Feature Creation\n",
    "    - Put into Acceptable Input Form\n",
    "        - Scale Features\n",
    "        - Padding\n",
    "        - (Word Embedding)\n",
    "    - Create Dataloader\n",
    "- Data Analysis\n",
    "    - plots\n",
    "\n",
    "- Modelling\n",
    "    - Train-Test-Split\n",
    "    - RNN\n",
    "        - Model Def\n",
    "        - Model Training\n",
    "    - LSTM\n",
    "        - Model Def\n",
    "        - Model Training\n",
    "    - GRU\n",
    "        - Model Def\n",
    "        - Model Training\n",
    "    - (Transformer Model Def)\n",
    "        - Transfer Learning/Model Def\n",
    "        - Model Training\n",
    "        \n",
    "- Evaluation and Comparison of Models\n",
    "    - Numerical Evalutaion Metrics\n",
    "        - AUC and F! Score\n",
    "       - (Plotting number results comparing each as parameters change)\n",
    "    - Plotted Evaluation Metrics\n",
    "        - ROC Curve"
   ]
  },
  {
   "cell_type": "markdown",
   "id": "25bee0e8",
   "metadata": {},
   "source": [
    "# Questions\n",
    "- "
   ]
  },
  {
   "cell_type": "markdown",
   "id": "5d865010",
   "metadata": {},
   "source": [
    "# Imports"
   ]
  },
  {
   "cell_type": "code",
   "execution_count": 375,
   "id": "bc8176e6",
   "metadata": {},
   "outputs": [],
   "source": [
    "# manipulating data\n",
    "import pandas as pd\n",
    "import numpy as np\n",
    "\n",
    "# Neural Networks\n",
    "import torch\n",
    "import torch.nn as nn\n",
    "from torch.utils.data import DataLoader, TensorDataset\n",
    "from torch import Tensor\n",
    "import torch.optim as optim\n",
    "from torch.autograd import Variable\n",
    "\n",
    "# Evaluation\n",
    "from torchmetrics import F1Score\n",
    "from torchmetrics.functional import auc\n",
    "from torchmetrics import ConfusionMatrix\n",
    "\n",
    "# handling time data\n",
    "import time # for timestamps\n",
    "import datetime\n",
    "\n",
    "# data analysis\n",
    "import matplotlib.pyplot as plt \n",
    "\n",
    "#\n",
    "import math\n",
    "\n"
   ]
  },
  {
   "cell_type": "markdown",
   "id": "f873b681",
   "metadata": {},
   "source": [
    "# Data Engineering\n",
    "#### Will be done with Pandas"
   ]
  },
  {
   "cell_type": "markdown",
   "id": "521d8a82",
   "metadata": {},
   "source": [
    "## Load Data"
   ]
  },
  {
   "cell_type": "code",
   "execution_count": 2,
   "id": "1efe7391",
   "metadata": {},
   "outputs": [],
   "source": [
    "# global path to data (varies for user)\n",
    "data_path = '/Users/jonathanwozny/Documents/GraduateSchool/Fall2022/CAP6617/Project/shopper_intent_prediction/release_10_23_2020.csv'\n",
    "\n",
    "# load dataset\n",
    "df = pd.read_csv(data_path)\n"
   ]
  },
  {
   "cell_type": "code",
   "execution_count": 3,
   "id": "774c0816",
   "metadata": {},
   "outputs": [],
   "source": [
    "# get column names\n",
    "col_names = [c for c in df.columns]\n",
    "features = col_names[:-1]\n",
    "\n",
    "# sepearate column names into categorical and numerical\n",
    "cat_cols = []\n",
    "numer_cols = []\n",
    "\n",
    "for col in col_names:\n",
    "    if df[col].dtype == 'O':\n",
    "        cat_cols.append(col)\n",
    "    else:\n",
    "        numer_cols.append(col)"
   ]
  },
  {
   "cell_type": "markdown",
   "id": "08e33980",
   "metadata": {},
   "source": [
    "## Initial Data Examination"
   ]
  },
  {
   "cell_type": "code",
   "execution_count": 4,
   "id": "c15a4d62",
   "metadata": {},
   "outputs": [
    {
     "data": {
      "text/html": [
       "<div>\n",
       "<style scoped>\n",
       "    .dataframe tbody tr th:only-of-type {\n",
       "        vertical-align: middle;\n",
       "    }\n",
       "\n",
       "    .dataframe tbody tr th {\n",
       "        vertical-align: top;\n",
       "    }\n",
       "\n",
       "    .dataframe thead th {\n",
       "        text-align: right;\n",
       "    }\n",
       "</style>\n",
       "<table border=\"1\" class=\"dataframe\">\n",
       "  <thead>\n",
       "    <tr style=\"text-align: right;\">\n",
       "      <th></th>\n",
       "      <th>session_id_hash</th>\n",
       "      <th>event_type</th>\n",
       "      <th>product_action</th>\n",
       "      <th>product_skus_hash</th>\n",
       "      <th>server_timestamp_epoch_ms</th>\n",
       "      <th>hashed_url</th>\n",
       "    </tr>\n",
       "  </thead>\n",
       "  <tbody>\n",
       "    <tr>\n",
       "      <th>0</th>\n",
       "      <td>00000005c19449b57d8d05dfc8b5474be0654032</td>\n",
       "      <td>pageview</td>\n",
       "      <td>NaN</td>\n",
       "      <td>NaN</td>\n",
       "      <td>1544469996111</td>\n",
       "      <td>da99729886aff70a02733b6cd69ee7df35622d9302347e...</td>\n",
       "    </tr>\n",
       "    <tr>\n",
       "      <th>1</th>\n",
       "      <td>00006a0ada94a5186163a25e9ed9c94481c820d9</td>\n",
       "      <td>pageview</td>\n",
       "      <td>NaN</td>\n",
       "      <td>NaN</td>\n",
       "      <td>1545737959865</td>\n",
       "      <td>e2f7e0cee4272e804f0d323a3513dd01716a5a40ab9abf...</td>\n",
       "    </tr>\n",
       "    <tr>\n",
       "      <th>2</th>\n",
       "      <td>00007d15aeb741b3cdd873cb3933351d699cc320</td>\n",
       "      <td>pageview</td>\n",
       "      <td>NaN</td>\n",
       "      <td>NaN</td>\n",
       "      <td>1544908835402</td>\n",
       "      <td>ea7b2493be61ff454f8cce412f9dc281e605daec8c43b5...</td>\n",
       "    </tr>\n",
       "    <tr>\n",
       "      <th>3</th>\n",
       "      <td>00007d15aeb741b3cdd873cb3933351d699cc320</td>\n",
       "      <td>pageview</td>\n",
       "      <td>NaN</td>\n",
       "      <td>NaN</td>\n",
       "      <td>1544908847263</td>\n",
       "      <td>ea7b2493be61ff454f8cce412f9dc281e605daec8c43b5...</td>\n",
       "    </tr>\n",
       "    <tr>\n",
       "      <th>4</th>\n",
       "      <td>00007d15aeb741b3cdd873cb3933351d699cc320</td>\n",
       "      <td>pageview</td>\n",
       "      <td>detail</td>\n",
       "      <td>90add4dd072e160034e98ddea257e0b59441eae00d8955...</td>\n",
       "      <td>1544909035879</td>\n",
       "      <td>8fa1ecf31ececb27ebe9c529966f3d1f907542fe138d5d...</td>\n",
       "    </tr>\n",
       "  </tbody>\n",
       "</table>\n",
       "</div>"
      ],
      "text/plain": [
       "                            session_id_hash event_type product_action  \\\n",
       "0  00000005c19449b57d8d05dfc8b5474be0654032   pageview            NaN   \n",
       "1  00006a0ada94a5186163a25e9ed9c94481c820d9   pageview            NaN   \n",
       "2  00007d15aeb741b3cdd873cb3933351d699cc320   pageview            NaN   \n",
       "3  00007d15aeb741b3cdd873cb3933351d699cc320   pageview            NaN   \n",
       "4  00007d15aeb741b3cdd873cb3933351d699cc320   pageview         detail   \n",
       "\n",
       "                                   product_skus_hash  \\\n",
       "0                                                NaN   \n",
       "1                                                NaN   \n",
       "2                                                NaN   \n",
       "3                                                NaN   \n",
       "4  90add4dd072e160034e98ddea257e0b59441eae00d8955...   \n",
       "\n",
       "   server_timestamp_epoch_ms  \\\n",
       "0              1544469996111   \n",
       "1              1545737959865   \n",
       "2              1544908835402   \n",
       "3              1544908847263   \n",
       "4              1544909035879   \n",
       "\n",
       "                                          hashed_url  \n",
       "0  da99729886aff70a02733b6cd69ee7df35622d9302347e...  \n",
       "1  e2f7e0cee4272e804f0d323a3513dd01716a5a40ab9abf...  \n",
       "2  ea7b2493be61ff454f8cce412f9dc281e605daec8c43b5...  \n",
       "3  ea7b2493be61ff454f8cce412f9dc281e605daec8c43b5...  \n",
       "4  8fa1ecf31ececb27ebe9c529966f3d1f907542fe138d5d...  "
      ]
     },
     "execution_count": 4,
     "metadata": {},
     "output_type": "execute_result"
    }
   ],
   "source": [
    "df.head()"
   ]
  },
  {
   "cell_type": "code",
   "execution_count": 5,
   "id": "30a2914b",
   "metadata": {},
   "outputs": [
    {
     "name": "stdout",
     "output_type": "stream",
     "text": [
      "<class 'pandas.core.frame.DataFrame'>\n",
      "RangeIndex: 5433611 entries, 0 to 5433610\n",
      "Data columns (total 6 columns):\n",
      " #   Column                     Dtype \n",
      "---  ------                     ----- \n",
      " 0   session_id_hash            object\n",
      " 1   event_type                 object\n",
      " 2   product_action             object\n",
      " 3   product_skus_hash          object\n",
      " 4   server_timestamp_epoch_ms  int64 \n",
      " 5   hashed_url                 object\n",
      "dtypes: int64(1), object(5)\n",
      "memory usage: 248.7+ MB\n"
     ]
    }
   ],
   "source": [
    "df.info()"
   ]
  },
  {
   "cell_type": "markdown",
   "id": "9f2bea69",
   "metadata": {},
   "source": [
    "#### NAN values in each column"
   ]
  },
  {
   "cell_type": "code",
   "execution_count": 6,
   "id": "8385d9b4",
   "metadata": {},
   "outputs": [
    {
     "data": {
      "text/plain": [
       "session_id_hash                    0\n",
       "event_type                         0\n",
       "product_action               2918789\n",
       "product_skus_hash            3547557\n",
       "server_timestamp_epoch_ms          0\n",
       "hashed_url                         0\n",
       "dtype: int64"
      ]
     },
     "execution_count": 6,
     "metadata": {},
     "output_type": "execute_result"
    }
   ],
   "source": [
    "df.isna().sum()"
   ]
  },
  {
   "cell_type": "markdown",
   "id": "05e33c14",
   "metadata": {},
   "source": [
    "#### Value Counts (for reasonable number of classes)"
   ]
  },
  {
   "cell_type": "code",
   "execution_count": 7,
   "id": "0f02b606",
   "metadata": {},
   "outputs": [
    {
     "name": "stdout",
     "output_type": "stream",
     "text": [
      "Number of Unique Values for each Categoical Column:\n",
      "\n",
      "session_id_hash:  443660\n",
      "\n",
      "\n",
      "event_type:  2\n",
      "\t\n",
      "pageview    4565253\n",
      "event        868358\n",
      "Name: event_type, dtype: int64\n",
      "\n",
      "\n",
      "product_action:  6\n",
      "\t\n",
      "detail      1640190\n",
      "add          743363\n",
      "click         69831\n",
      "remove        51512\n",
      "purchase       9926\n",
      "Name: product_action, dtype: int64\n",
      "\n",
      "\n",
      "product_skus_hash:  38345\n",
      "\n",
      "\n",
      "hashed_url:  256598\n",
      "\n",
      "\n"
     ]
    }
   ],
   "source": [
    "print(\"Number of Unique Values for each Categoical Column:\\n\")\n",
    "num_unique = []\n",
    "for col in cat_cols:\n",
    "    num_unique.append(len(df[col].unique()))\n",
    "    print(\"{}: \".format(col), num_unique[-1])\n",
    "    if num_unique[-1] < 100:\n",
    "        print('\\t')\n",
    "        print(df[col].value_counts())\n",
    "    print('\\n')"
   ]
  },
  {
   "cell_type": "markdown",
   "id": "573bf5a4",
   "metadata": {},
   "source": [
    "## Dataset for Sessions for Whole Session Prediction Problem\n",
    "- Keep sessons with:\n",
    "    - length >= 5 clicks\n",
    "    - length <= 155 clicks\n",
    "- set nan values in actions = 'pageview'\n",
    "- remove last few actions and add labels"
   ]
  },
  {
   "cell_type": "code",
   "execution_count": 8,
   "id": "d1eda36d",
   "metadata": {},
   "outputs": [
    {
     "data": {
      "text/html": [
       "<div>\n",
       "<style scoped>\n",
       "    .dataframe tbody tr th:only-of-type {\n",
       "        vertical-align: middle;\n",
       "    }\n",
       "\n",
       "    .dataframe tbody tr th {\n",
       "        vertical-align: top;\n",
       "    }\n",
       "\n",
       "    .dataframe thead th {\n",
       "        text-align: right;\n",
       "    }\n",
       "</style>\n",
       "<table border=\"1\" class=\"dataframe\">\n",
       "  <thead>\n",
       "    <tr style=\"text-align: right;\">\n",
       "      <th></th>\n",
       "      <th>session_id_hash</th>\n",
       "      <th>event_type</th>\n",
       "      <th>product_action</th>\n",
       "      <th>product_skus_hash</th>\n",
       "      <th>server_timestamp_epoch_ms</th>\n",
       "      <th>hashed_url</th>\n",
       "    </tr>\n",
       "  </thead>\n",
       "  <tbody>\n",
       "    <tr>\n",
       "      <th>0</th>\n",
       "      <td>00000005c19449b57d8d05dfc8b5474be0654032</td>\n",
       "      <td>pageview</td>\n",
       "      <td>NaN</td>\n",
       "      <td>NaN</td>\n",
       "      <td>1544469996111</td>\n",
       "      <td>da99729886aff70a02733b6cd69ee7df35622d9302347e...</td>\n",
       "    </tr>\n",
       "    <tr>\n",
       "      <th>1</th>\n",
       "      <td>00006a0ada94a5186163a25e9ed9c94481c820d9</td>\n",
       "      <td>pageview</td>\n",
       "      <td>NaN</td>\n",
       "      <td>NaN</td>\n",
       "      <td>1545737959865</td>\n",
       "      <td>e2f7e0cee4272e804f0d323a3513dd01716a5a40ab9abf...</td>\n",
       "    </tr>\n",
       "    <tr>\n",
       "      <th>2</th>\n",
       "      <td>00007d15aeb741b3cdd873cb3933351d699cc320</td>\n",
       "      <td>pageview</td>\n",
       "      <td>NaN</td>\n",
       "      <td>NaN</td>\n",
       "      <td>1544908835402</td>\n",
       "      <td>ea7b2493be61ff454f8cce412f9dc281e605daec8c43b5...</td>\n",
       "    </tr>\n",
       "    <tr>\n",
       "      <th>3</th>\n",
       "      <td>00007d15aeb741b3cdd873cb3933351d699cc320</td>\n",
       "      <td>pageview</td>\n",
       "      <td>NaN</td>\n",
       "      <td>NaN</td>\n",
       "      <td>1544908847263</td>\n",
       "      <td>ea7b2493be61ff454f8cce412f9dc281e605daec8c43b5...</td>\n",
       "    </tr>\n",
       "    <tr>\n",
       "      <th>4</th>\n",
       "      <td>00007d15aeb741b3cdd873cb3933351d699cc320</td>\n",
       "      <td>pageview</td>\n",
       "      <td>detail</td>\n",
       "      <td>90add4dd072e160034e98ddea257e0b59441eae00d8955...</td>\n",
       "      <td>1544909035879</td>\n",
       "      <td>8fa1ecf31ececb27ebe9c529966f3d1f907542fe138d5d...</td>\n",
       "    </tr>\n",
       "    <tr>\n",
       "      <th>...</th>\n",
       "      <td>...</td>\n",
       "      <td>...</td>\n",
       "      <td>...</td>\n",
       "      <td>...</td>\n",
       "      <td>...</td>\n",
       "      <td>...</td>\n",
       "    </tr>\n",
       "    <tr>\n",
       "      <th>5433606</th>\n",
       "      <td>ffffc2bce69fd5da3e9998fd5c788450a726ba4d</td>\n",
       "      <td>pageview</td>\n",
       "      <td>detail</td>\n",
       "      <td>81001bca02486bcecc944bc88412be729260f00a54d583...</td>\n",
       "      <td>1545571237554</td>\n",
       "      <td>a498ddf07e784d7d00df18a8f51a81e45aedf57ef8a45a...</td>\n",
       "    </tr>\n",
       "    <tr>\n",
       "      <th>5433607</th>\n",
       "      <td>ffffc2bce69fd5da3e9998fd5c788450a726ba4d</td>\n",
       "      <td>pageview</td>\n",
       "      <td>NaN</td>\n",
       "      <td>NaN</td>\n",
       "      <td>1545571243349</td>\n",
       "      <td>aaf8c8581bfc7373f63dbdde27304c619bc7db1755ec50...</td>\n",
       "    </tr>\n",
       "    <tr>\n",
       "      <th>5433608</th>\n",
       "      <td>ffffc776defb14e6ba4c2635ba87251cb414573c</td>\n",
       "      <td>pageview</td>\n",
       "      <td>NaN</td>\n",
       "      <td>NaN</td>\n",
       "      <td>1545748104469</td>\n",
       "      <td>54f2670e3703a7b85cf5015dc130bc6c1011d7f2fce07c...</td>\n",
       "    </tr>\n",
       "    <tr>\n",
       "      <th>5433609</th>\n",
       "      <td>ffffce103f74909ba29cc8f4e40d82583b2e1898</td>\n",
       "      <td>pageview</td>\n",
       "      <td>NaN</td>\n",
       "      <td>NaN</td>\n",
       "      <td>1544536113737</td>\n",
       "      <td>f0ba8800a3e7fc0a3ea6904ad219ec44b964658817c52d...</td>\n",
       "    </tr>\n",
       "    <tr>\n",
       "      <th>5433610</th>\n",
       "      <td>fffff961f0006b50e9dfe39d4b27ed8e9e506aed</td>\n",
       "      <td>pageview</td>\n",
       "      <td>NaN</td>\n",
       "      <td>NaN</td>\n",
       "      <td>1545491642625</td>\n",
       "      <td>9ada061f4a8755d3409d8e45378a64108849e60ada89e7...</td>\n",
       "    </tr>\n",
       "  </tbody>\n",
       "</table>\n",
       "<p>5433611 rows × 6 columns</p>\n",
       "</div>"
      ],
      "text/plain": [
       "                                  session_id_hash event_type product_action  \\\n",
       "0        00000005c19449b57d8d05dfc8b5474be0654032   pageview            NaN   \n",
       "1        00006a0ada94a5186163a25e9ed9c94481c820d9   pageview            NaN   \n",
       "2        00007d15aeb741b3cdd873cb3933351d699cc320   pageview            NaN   \n",
       "3        00007d15aeb741b3cdd873cb3933351d699cc320   pageview            NaN   \n",
       "4        00007d15aeb741b3cdd873cb3933351d699cc320   pageview         detail   \n",
       "...                                           ...        ...            ...   \n",
       "5433606  ffffc2bce69fd5da3e9998fd5c788450a726ba4d   pageview         detail   \n",
       "5433607  ffffc2bce69fd5da3e9998fd5c788450a726ba4d   pageview            NaN   \n",
       "5433608  ffffc776defb14e6ba4c2635ba87251cb414573c   pageview            NaN   \n",
       "5433609  ffffce103f74909ba29cc8f4e40d82583b2e1898   pageview            NaN   \n",
       "5433610  fffff961f0006b50e9dfe39d4b27ed8e9e506aed   pageview            NaN   \n",
       "\n",
       "                                         product_skus_hash  \\\n",
       "0                                                      NaN   \n",
       "1                                                      NaN   \n",
       "2                                                      NaN   \n",
       "3                                                      NaN   \n",
       "4        90add4dd072e160034e98ddea257e0b59441eae00d8955...   \n",
       "...                                                    ...   \n",
       "5433606  81001bca02486bcecc944bc88412be729260f00a54d583...   \n",
       "5433607                                                NaN   \n",
       "5433608                                                NaN   \n",
       "5433609                                                NaN   \n",
       "5433610                                                NaN   \n",
       "\n",
       "         server_timestamp_epoch_ms  \\\n",
       "0                    1544469996111   \n",
       "1                    1545737959865   \n",
       "2                    1544908835402   \n",
       "3                    1544908847263   \n",
       "4                    1544909035879   \n",
       "...                            ...   \n",
       "5433606              1545571237554   \n",
       "5433607              1545571243349   \n",
       "5433608              1545748104469   \n",
       "5433609              1544536113737   \n",
       "5433610              1545491642625   \n",
       "\n",
       "                                                hashed_url  \n",
       "0        da99729886aff70a02733b6cd69ee7df35622d9302347e...  \n",
       "1        e2f7e0cee4272e804f0d323a3513dd01716a5a40ab9abf...  \n",
       "2        ea7b2493be61ff454f8cce412f9dc281e605daec8c43b5...  \n",
       "3        ea7b2493be61ff454f8cce412f9dc281e605daec8c43b5...  \n",
       "4        8fa1ecf31ececb27ebe9c529966f3d1f907542fe138d5d...  \n",
       "...                                                    ...  \n",
       "5433606  a498ddf07e784d7d00df18a8f51a81e45aedf57ef8a45a...  \n",
       "5433607  aaf8c8581bfc7373f63dbdde27304c619bc7db1755ec50...  \n",
       "5433608  54f2670e3703a7b85cf5015dc130bc6c1011d7f2fce07c...  \n",
       "5433609  f0ba8800a3e7fc0a3ea6904ad219ec44b964658817c52d...  \n",
       "5433610  9ada061f4a8755d3409d8e45378a64108849e60ada89e7...  \n",
       "\n",
       "[5433611 rows x 6 columns]"
      ]
     },
     "execution_count": 8,
     "metadata": {},
     "output_type": "execute_result"
    }
   ],
   "source": [
    "df"
   ]
  },
  {
   "cell_type": "markdown",
   "id": "7b0665a4",
   "metadata": {},
   "source": [
    "### Keep sessions with length 5 <= L <= 155"
   ]
  },
  {
   "cell_type": "code",
   "execution_count": 9,
   "id": "9f6a3419",
   "metadata": {},
   "outputs": [],
   "source": [
    "maxSeqCutoffSize = 155\n",
    "minSeqCutoffSize = 5\n",
    "\n",
    "dfW = df.groupby('session_id_hash')\n",
    "dfW = dfW.filter(lambda x: (len(x) >= 5 and len(x) <=155))\n",
    "dfW = dfW.reset_index()\n",
    "dfW.drop('index', axis=1, inplace = True)"
   ]
  },
  {
   "cell_type": "code",
   "execution_count": 10,
   "id": "d1f40f78",
   "metadata": {},
   "outputs": [
    {
     "data": {
      "text/html": [
       "<div>\n",
       "<style scoped>\n",
       "    .dataframe tbody tr th:only-of-type {\n",
       "        vertical-align: middle;\n",
       "    }\n",
       "\n",
       "    .dataframe tbody tr th {\n",
       "        vertical-align: top;\n",
       "    }\n",
       "\n",
       "    .dataframe thead th {\n",
       "        text-align: right;\n",
       "    }\n",
       "</style>\n",
       "<table border=\"1\" class=\"dataframe\">\n",
       "  <thead>\n",
       "    <tr style=\"text-align: right;\">\n",
       "      <th></th>\n",
       "      <th>session_id_hash</th>\n",
       "      <th>event_type</th>\n",
       "      <th>product_action</th>\n",
       "      <th>product_skus_hash</th>\n",
       "      <th>server_timestamp_epoch_ms</th>\n",
       "      <th>hashed_url</th>\n",
       "    </tr>\n",
       "  </thead>\n",
       "  <tbody>\n",
       "    <tr>\n",
       "      <th>0</th>\n",
       "      <td>00007d15aeb741b3cdd873cb3933351d699cc320</td>\n",
       "      <td>pageview</td>\n",
       "      <td>NaN</td>\n",
       "      <td>NaN</td>\n",
       "      <td>1544908835402</td>\n",
       "      <td>ea7b2493be61ff454f8cce412f9dc281e605daec8c43b5...</td>\n",
       "    </tr>\n",
       "    <tr>\n",
       "      <th>1</th>\n",
       "      <td>00007d15aeb741b3cdd873cb3933351d699cc320</td>\n",
       "      <td>pageview</td>\n",
       "      <td>NaN</td>\n",
       "      <td>NaN</td>\n",
       "      <td>1544908847263</td>\n",
       "      <td>ea7b2493be61ff454f8cce412f9dc281e605daec8c43b5...</td>\n",
       "    </tr>\n",
       "    <tr>\n",
       "      <th>2</th>\n",
       "      <td>00007d15aeb741b3cdd873cb3933351d699cc320</td>\n",
       "      <td>pageview</td>\n",
       "      <td>detail</td>\n",
       "      <td>90add4dd072e160034e98ddea257e0b59441eae00d8955...</td>\n",
       "      <td>1544909035879</td>\n",
       "      <td>8fa1ecf31ececb27ebe9c529966f3d1f907542fe138d5d...</td>\n",
       "    </tr>\n",
       "    <tr>\n",
       "      <th>3</th>\n",
       "      <td>00007d15aeb741b3cdd873cb3933351d699cc320</td>\n",
       "      <td>pageview</td>\n",
       "      <td>NaN</td>\n",
       "      <td>NaN</td>\n",
       "      <td>1544909049946</td>\n",
       "      <td>5481ac8074c7ecec6818281b0d12cfddfd005667637925...</td>\n",
       "    </tr>\n",
       "    <tr>\n",
       "      <th>4</th>\n",
       "      <td>00007d15aeb741b3cdd873cb3933351d699cc320</td>\n",
       "      <td>pageview</td>\n",
       "      <td>detail</td>\n",
       "      <td>bd81fd361f0ae5438cb712c3a4e0344d05c6ebd4b7aae6...</td>\n",
       "      <td>1544909231588</td>\n",
       "      <td>05b9fd85f8201a96bd8dd102ae83288aae394c91fd53d1...</td>\n",
       "    </tr>\n",
       "    <tr>\n",
       "      <th>...</th>\n",
       "      <td>...</td>\n",
       "      <td>...</td>\n",
       "      <td>...</td>\n",
       "      <td>...</td>\n",
       "      <td>...</td>\n",
       "      <td>...</td>\n",
       "    </tr>\n",
       "    <tr>\n",
       "      <th>4198650</th>\n",
       "      <td>ffffc2bce69fd5da3e9998fd5c788450a726ba4d</td>\n",
       "      <td>pageview</td>\n",
       "      <td>NaN</td>\n",
       "      <td>NaN</td>\n",
       "      <td>1545570913853</td>\n",
       "      <td>6ddd53c2e8a4513d63b5393db16475c8aefcfbcea0e7c5...</td>\n",
       "    </tr>\n",
       "    <tr>\n",
       "      <th>4198651</th>\n",
       "      <td>ffffc2bce69fd5da3e9998fd5c788450a726ba4d</td>\n",
       "      <td>pageview</td>\n",
       "      <td>NaN</td>\n",
       "      <td>NaN</td>\n",
       "      <td>1545571133716</td>\n",
       "      <td>a2494e01b9fdc0cb2ac36472f19f6ace950ba23d043990...</td>\n",
       "    </tr>\n",
       "    <tr>\n",
       "      <th>4198652</th>\n",
       "      <td>ffffc2bce69fd5da3e9998fd5c788450a726ba4d</td>\n",
       "      <td>pageview</td>\n",
       "      <td>detail</td>\n",
       "      <td>81001bca02486bcecc944bc88412be729260f00a54d583...</td>\n",
       "      <td>1545571171266</td>\n",
       "      <td>a498ddf07e784d7d00df18a8f51a81e45aedf57ef8a45a...</td>\n",
       "    </tr>\n",
       "    <tr>\n",
       "      <th>4198653</th>\n",
       "      <td>ffffc2bce69fd5da3e9998fd5c788450a726ba4d</td>\n",
       "      <td>pageview</td>\n",
       "      <td>detail</td>\n",
       "      <td>81001bca02486bcecc944bc88412be729260f00a54d583...</td>\n",
       "      <td>1545571237554</td>\n",
       "      <td>a498ddf07e784d7d00df18a8f51a81e45aedf57ef8a45a...</td>\n",
       "    </tr>\n",
       "    <tr>\n",
       "      <th>4198654</th>\n",
       "      <td>ffffc2bce69fd5da3e9998fd5c788450a726ba4d</td>\n",
       "      <td>pageview</td>\n",
       "      <td>NaN</td>\n",
       "      <td>NaN</td>\n",
       "      <td>1545571243349</td>\n",
       "      <td>aaf8c8581bfc7373f63dbdde27304c619bc7db1755ec50...</td>\n",
       "    </tr>\n",
       "  </tbody>\n",
       "</table>\n",
       "<p>4198655 rows × 6 columns</p>\n",
       "</div>"
      ],
      "text/plain": [
       "                                  session_id_hash event_type product_action  \\\n",
       "0        00007d15aeb741b3cdd873cb3933351d699cc320   pageview            NaN   \n",
       "1        00007d15aeb741b3cdd873cb3933351d699cc320   pageview            NaN   \n",
       "2        00007d15aeb741b3cdd873cb3933351d699cc320   pageview         detail   \n",
       "3        00007d15aeb741b3cdd873cb3933351d699cc320   pageview            NaN   \n",
       "4        00007d15aeb741b3cdd873cb3933351d699cc320   pageview         detail   \n",
       "...                                           ...        ...            ...   \n",
       "4198650  ffffc2bce69fd5da3e9998fd5c788450a726ba4d   pageview            NaN   \n",
       "4198651  ffffc2bce69fd5da3e9998fd5c788450a726ba4d   pageview            NaN   \n",
       "4198652  ffffc2bce69fd5da3e9998fd5c788450a726ba4d   pageview         detail   \n",
       "4198653  ffffc2bce69fd5da3e9998fd5c788450a726ba4d   pageview         detail   \n",
       "4198654  ffffc2bce69fd5da3e9998fd5c788450a726ba4d   pageview            NaN   \n",
       "\n",
       "                                         product_skus_hash  \\\n",
       "0                                                      NaN   \n",
       "1                                                      NaN   \n",
       "2        90add4dd072e160034e98ddea257e0b59441eae00d8955...   \n",
       "3                                                      NaN   \n",
       "4        bd81fd361f0ae5438cb712c3a4e0344d05c6ebd4b7aae6...   \n",
       "...                                                    ...   \n",
       "4198650                                                NaN   \n",
       "4198651                                                NaN   \n",
       "4198652  81001bca02486bcecc944bc88412be729260f00a54d583...   \n",
       "4198653  81001bca02486bcecc944bc88412be729260f00a54d583...   \n",
       "4198654                                                NaN   \n",
       "\n",
       "         server_timestamp_epoch_ms  \\\n",
       "0                    1544908835402   \n",
       "1                    1544908847263   \n",
       "2                    1544909035879   \n",
       "3                    1544909049946   \n",
       "4                    1544909231588   \n",
       "...                            ...   \n",
       "4198650              1545570913853   \n",
       "4198651              1545571133716   \n",
       "4198652              1545571171266   \n",
       "4198653              1545571237554   \n",
       "4198654              1545571243349   \n",
       "\n",
       "                                                hashed_url  \n",
       "0        ea7b2493be61ff454f8cce412f9dc281e605daec8c43b5...  \n",
       "1        ea7b2493be61ff454f8cce412f9dc281e605daec8c43b5...  \n",
       "2        8fa1ecf31ececb27ebe9c529966f3d1f907542fe138d5d...  \n",
       "3        5481ac8074c7ecec6818281b0d12cfddfd005667637925...  \n",
       "4        05b9fd85f8201a96bd8dd102ae83288aae394c91fd53d1...  \n",
       "...                                                    ...  \n",
       "4198650  6ddd53c2e8a4513d63b5393db16475c8aefcfbcea0e7c5...  \n",
       "4198651  a2494e01b9fdc0cb2ac36472f19f6ace950ba23d043990...  \n",
       "4198652  a498ddf07e784d7d00df18a8f51a81e45aedf57ef8a45a...  \n",
       "4198653  a498ddf07e784d7d00df18a8f51a81e45aedf57ef8a45a...  \n",
       "4198654  aaf8c8581bfc7373f63dbdde27304c619bc7db1755ec50...  \n",
       "\n",
       "[4198655 rows x 6 columns]"
      ]
     },
     "execution_count": 10,
     "metadata": {},
     "output_type": "execute_result"
    }
   ],
   "source": [
    "# in same statement\n",
    "dfW"
   ]
  },
  {
   "cell_type": "code",
   "execution_count": 11,
   "id": "f5d3bbbd",
   "metadata": {},
   "outputs": [
    {
     "name": "stdout",
     "output_type": "stream",
     "text": [
      "Number of unique sessions: 203127 \n",
      "\n"
     ]
    }
   ],
   "source": [
    "print('Number of unique sessions: {} \\n'.format(len(dfW['session_id_hash'].unique())))"
   ]
  },
  {
   "cell_type": "code",
   "execution_count": null,
   "id": "e3176ace",
   "metadata": {},
   "outputs": [],
   "source": []
  },
  {
   "cell_type": "code",
   "execution_count": null,
   "id": "9ae43773",
   "metadata": {},
   "outputs": [],
   "source": []
  },
  {
   "cell_type": "code",
   "execution_count": null,
   "id": "ee6b9970",
   "metadata": {},
   "outputs": [],
   "source": []
  },
  {
   "cell_type": "markdown",
   "id": "c916738d",
   "metadata": {},
   "source": [
    "## Handle NaN Values\n",
    "- product action\n",
    "- product_skus_hash"
   ]
  },
  {
   "cell_type": "code",
   "execution_count": 12,
   "id": "8224b0b3",
   "metadata": {},
   "outputs": [],
   "source": [
    "# change to pageview in product_action\n",
    "dfW.loc[dfW['product_action'].isna(), \"product_action\"] = 'pageview'"
   ]
  },
  {
   "cell_type": "code",
   "execution_count": 13,
   "id": "45881281",
   "metadata": {},
   "outputs": [],
   "source": [
    "# change NaN to 'None'\n",
    "dfW.loc[dfW['product_skus_hash'].isna(), \"product_skus_hash\"] = 'None'\n"
   ]
  },
  {
   "cell_type": "code",
   "execution_count": 14,
   "id": "23c780b7",
   "metadata": {},
   "outputs": [
    {
     "data": {
      "text/plain": [
       "session_id_hash              0\n",
       "event_type                   0\n",
       "product_action               0\n",
       "product_skus_hash            0\n",
       "server_timestamp_epoch_ms    0\n",
       "hashed_url                   0\n",
       "dtype: int64"
      ]
     },
     "execution_count": 14,
     "metadata": {},
     "output_type": "execute_result"
    }
   ],
   "source": [
    "# No values should be NaN\n",
    "dfW.isna().sum()"
   ]
  },
  {
   "cell_type": "code",
   "execution_count": 15,
   "id": "c992a1a1",
   "metadata": {},
   "outputs": [
    {
     "data": {
      "text/html": [
       "<div>\n",
       "<style scoped>\n",
       "    .dataframe tbody tr th:only-of-type {\n",
       "        vertical-align: middle;\n",
       "    }\n",
       "\n",
       "    .dataframe tbody tr th {\n",
       "        vertical-align: top;\n",
       "    }\n",
       "\n",
       "    .dataframe thead th {\n",
       "        text-align: right;\n",
       "    }\n",
       "</style>\n",
       "<table border=\"1\" class=\"dataframe\">\n",
       "  <thead>\n",
       "    <tr style=\"text-align: right;\">\n",
       "      <th></th>\n",
       "      <th>session_id_hash</th>\n",
       "      <th>event_type</th>\n",
       "      <th>product_action</th>\n",
       "      <th>product_skus_hash</th>\n",
       "      <th>server_timestamp_epoch_ms</th>\n",
       "      <th>hashed_url</th>\n",
       "    </tr>\n",
       "  </thead>\n",
       "  <tbody>\n",
       "    <tr>\n",
       "      <th>0</th>\n",
       "      <td>00007d15aeb741b3cdd873cb3933351d699cc320</td>\n",
       "      <td>pageview</td>\n",
       "      <td>pageview</td>\n",
       "      <td>None</td>\n",
       "      <td>1544908835402</td>\n",
       "      <td>ea7b2493be61ff454f8cce412f9dc281e605daec8c43b5...</td>\n",
       "    </tr>\n",
       "    <tr>\n",
       "      <th>1</th>\n",
       "      <td>00007d15aeb741b3cdd873cb3933351d699cc320</td>\n",
       "      <td>pageview</td>\n",
       "      <td>pageview</td>\n",
       "      <td>None</td>\n",
       "      <td>1544908847263</td>\n",
       "      <td>ea7b2493be61ff454f8cce412f9dc281e605daec8c43b5...</td>\n",
       "    </tr>\n",
       "    <tr>\n",
       "      <th>2</th>\n",
       "      <td>00007d15aeb741b3cdd873cb3933351d699cc320</td>\n",
       "      <td>pageview</td>\n",
       "      <td>detail</td>\n",
       "      <td>90add4dd072e160034e98ddea257e0b59441eae00d8955...</td>\n",
       "      <td>1544909035879</td>\n",
       "      <td>8fa1ecf31ececb27ebe9c529966f3d1f907542fe138d5d...</td>\n",
       "    </tr>\n",
       "    <tr>\n",
       "      <th>3</th>\n",
       "      <td>00007d15aeb741b3cdd873cb3933351d699cc320</td>\n",
       "      <td>pageview</td>\n",
       "      <td>pageview</td>\n",
       "      <td>None</td>\n",
       "      <td>1544909049946</td>\n",
       "      <td>5481ac8074c7ecec6818281b0d12cfddfd005667637925...</td>\n",
       "    </tr>\n",
       "    <tr>\n",
       "      <th>4</th>\n",
       "      <td>00007d15aeb741b3cdd873cb3933351d699cc320</td>\n",
       "      <td>pageview</td>\n",
       "      <td>detail</td>\n",
       "      <td>bd81fd361f0ae5438cb712c3a4e0344d05c6ebd4b7aae6...</td>\n",
       "      <td>1544909231588</td>\n",
       "      <td>05b9fd85f8201a96bd8dd102ae83288aae394c91fd53d1...</td>\n",
       "    </tr>\n",
       "  </tbody>\n",
       "</table>\n",
       "</div>"
      ],
      "text/plain": [
       "                            session_id_hash event_type product_action  \\\n",
       "0  00007d15aeb741b3cdd873cb3933351d699cc320   pageview       pageview   \n",
       "1  00007d15aeb741b3cdd873cb3933351d699cc320   pageview       pageview   \n",
       "2  00007d15aeb741b3cdd873cb3933351d699cc320   pageview         detail   \n",
       "3  00007d15aeb741b3cdd873cb3933351d699cc320   pageview       pageview   \n",
       "4  00007d15aeb741b3cdd873cb3933351d699cc320   pageview         detail   \n",
       "\n",
       "                                   product_skus_hash  \\\n",
       "0                                               None   \n",
       "1                                               None   \n",
       "2  90add4dd072e160034e98ddea257e0b59441eae00d8955...   \n",
       "3                                               None   \n",
       "4  bd81fd361f0ae5438cb712c3a4e0344d05c6ebd4b7aae6...   \n",
       "\n",
       "   server_timestamp_epoch_ms  \\\n",
       "0              1544908835402   \n",
       "1              1544908847263   \n",
       "2              1544909035879   \n",
       "3              1544909049946   \n",
       "4              1544909231588   \n",
       "\n",
       "                                          hashed_url  \n",
       "0  ea7b2493be61ff454f8cce412f9dc281e605daec8c43b5...  \n",
       "1  ea7b2493be61ff454f8cce412f9dc281e605daec8c43b5...  \n",
       "2  8fa1ecf31ececb27ebe9c529966f3d1f907542fe138d5d...  \n",
       "3  5481ac8074c7ecec6818281b0d12cfddfd005667637925...  \n",
       "4  05b9fd85f8201a96bd8dd102ae83288aae394c91fd53d1...  "
      ]
     },
     "execution_count": 15,
     "metadata": {},
     "output_type": "execute_result"
    }
   ],
   "source": [
    "dfW.head()"
   ]
  },
  {
   "cell_type": "markdown",
   "id": "5e38e98f",
   "metadata": {},
   "source": [
    "## Feature Creation"
   ]
  },
  {
   "cell_type": "markdown",
   "id": "fa849c0d",
   "metadata": {},
   "source": [
    "### boolean of whether a product is being looked at (for Nan Values in product_skus_hash)"
   ]
  },
  {
   "cell_type": "code",
   "execution_count": 16,
   "id": "86fb6a32",
   "metadata": {},
   "outputs": [],
   "source": [
    "dfW['viewing_product'] = 0\n",
    "dfW.loc[dfW['product_skus_hash'] != 'None', 'viewing_product'] = 1"
   ]
  },
  {
   "cell_type": "markdown",
   "id": "20341063",
   "metadata": {},
   "source": [
    "### Time sitting on page (time between timestamps)"
   ]
  },
  {
   "cell_type": "code",
   "execution_count": 17,
   "id": "9877d527",
   "metadata": {},
   "outputs": [],
   "source": [
    "dfW['time_sitting'] = df.groupby('session_id_hash')['server_timestamp_epoch_ms'].diff().fillna(0)"
   ]
  },
  {
   "cell_type": "code",
   "execution_count": 18,
   "id": "297452de",
   "metadata": {},
   "outputs": [
    {
     "data": {
      "text/html": [
       "<div>\n",
       "<style scoped>\n",
       "    .dataframe tbody tr th:only-of-type {\n",
       "        vertical-align: middle;\n",
       "    }\n",
       "\n",
       "    .dataframe tbody tr th {\n",
       "        vertical-align: top;\n",
       "    }\n",
       "\n",
       "    .dataframe thead th {\n",
       "        text-align: right;\n",
       "    }\n",
       "</style>\n",
       "<table border=\"1\" class=\"dataframe\">\n",
       "  <thead>\n",
       "    <tr style=\"text-align: right;\">\n",
       "      <th></th>\n",
       "      <th>session_id_hash</th>\n",
       "      <th>event_type</th>\n",
       "      <th>product_action</th>\n",
       "      <th>product_skus_hash</th>\n",
       "      <th>server_timestamp_epoch_ms</th>\n",
       "      <th>hashed_url</th>\n",
       "      <th>viewing_product</th>\n",
       "      <th>time_sitting</th>\n",
       "    </tr>\n",
       "  </thead>\n",
       "  <tbody>\n",
       "    <tr>\n",
       "      <th>0</th>\n",
       "      <td>00007d15aeb741b3cdd873cb3933351d699cc320</td>\n",
       "      <td>pageview</td>\n",
       "      <td>pageview</td>\n",
       "      <td>None</td>\n",
       "      <td>1544908835402</td>\n",
       "      <td>ea7b2493be61ff454f8cce412f9dc281e605daec8c43b5...</td>\n",
       "      <td>0</td>\n",
       "      <td>0.0</td>\n",
       "    </tr>\n",
       "    <tr>\n",
       "      <th>1</th>\n",
       "      <td>00007d15aeb741b3cdd873cb3933351d699cc320</td>\n",
       "      <td>pageview</td>\n",
       "      <td>pageview</td>\n",
       "      <td>None</td>\n",
       "      <td>1544908847263</td>\n",
       "      <td>ea7b2493be61ff454f8cce412f9dc281e605daec8c43b5...</td>\n",
       "      <td>0</td>\n",
       "      <td>0.0</td>\n",
       "    </tr>\n",
       "    <tr>\n",
       "      <th>2</th>\n",
       "      <td>00007d15aeb741b3cdd873cb3933351d699cc320</td>\n",
       "      <td>pageview</td>\n",
       "      <td>detail</td>\n",
       "      <td>90add4dd072e160034e98ddea257e0b59441eae00d8955...</td>\n",
       "      <td>1544909035879</td>\n",
       "      <td>8fa1ecf31ececb27ebe9c529966f3d1f907542fe138d5d...</td>\n",
       "      <td>1</td>\n",
       "      <td>0.0</td>\n",
       "    </tr>\n",
       "    <tr>\n",
       "      <th>3</th>\n",
       "      <td>00007d15aeb741b3cdd873cb3933351d699cc320</td>\n",
       "      <td>pageview</td>\n",
       "      <td>pageview</td>\n",
       "      <td>None</td>\n",
       "      <td>1544909049946</td>\n",
       "      <td>5481ac8074c7ecec6818281b0d12cfddfd005667637925...</td>\n",
       "      <td>0</td>\n",
       "      <td>11861.0</td>\n",
       "    </tr>\n",
       "    <tr>\n",
       "      <th>4</th>\n",
       "      <td>00007d15aeb741b3cdd873cb3933351d699cc320</td>\n",
       "      <td>pageview</td>\n",
       "      <td>detail</td>\n",
       "      <td>bd81fd361f0ae5438cb712c3a4e0344d05c6ebd4b7aae6...</td>\n",
       "      <td>1544909231588</td>\n",
       "      <td>05b9fd85f8201a96bd8dd102ae83288aae394c91fd53d1...</td>\n",
       "      <td>1</td>\n",
       "      <td>188616.0</td>\n",
       "    </tr>\n",
       "  </tbody>\n",
       "</table>\n",
       "</div>"
      ],
      "text/plain": [
       "                            session_id_hash event_type product_action  \\\n",
       "0  00007d15aeb741b3cdd873cb3933351d699cc320   pageview       pageview   \n",
       "1  00007d15aeb741b3cdd873cb3933351d699cc320   pageview       pageview   \n",
       "2  00007d15aeb741b3cdd873cb3933351d699cc320   pageview         detail   \n",
       "3  00007d15aeb741b3cdd873cb3933351d699cc320   pageview       pageview   \n",
       "4  00007d15aeb741b3cdd873cb3933351d699cc320   pageview         detail   \n",
       "\n",
       "                                   product_skus_hash  \\\n",
       "0                                               None   \n",
       "1                                               None   \n",
       "2  90add4dd072e160034e98ddea257e0b59441eae00d8955...   \n",
       "3                                               None   \n",
       "4  bd81fd361f0ae5438cb712c3a4e0344d05c6ebd4b7aae6...   \n",
       "\n",
       "   server_timestamp_epoch_ms  \\\n",
       "0              1544908835402   \n",
       "1              1544908847263   \n",
       "2              1544909035879   \n",
       "3              1544909049946   \n",
       "4              1544909231588   \n",
       "\n",
       "                                          hashed_url  viewing_product  \\\n",
       "0  ea7b2493be61ff454f8cce412f9dc281e605daec8c43b5...                0   \n",
       "1  ea7b2493be61ff454f8cce412f9dc281e605daec8c43b5...                0   \n",
       "2  8fa1ecf31ececb27ebe9c529966f3d1f907542fe138d5d...                1   \n",
       "3  5481ac8074c7ecec6818281b0d12cfddfd005667637925...                0   \n",
       "4  05b9fd85f8201a96bd8dd102ae83288aae394c91fd53d1...                1   \n",
       "\n",
       "   time_sitting  \n",
       "0           0.0  \n",
       "1           0.0  \n",
       "2           0.0  \n",
       "3       11861.0  \n",
       "4      188616.0  "
      ]
     },
     "execution_count": 18,
     "metadata": {},
     "output_type": "execute_result"
    }
   ],
   "source": [
    "dfW.head()"
   ]
  },
  {
   "cell_type": "markdown",
   "id": "1e4ddf9a",
   "metadata": {},
   "source": [
    "### Timestamps to Categorical Time Features (i.e. month, day, hour, minutes)"
   ]
  },
  {
   "cell_type": "code",
   "execution_count": 19,
   "id": "50a91cdc",
   "metadata": {},
   "outputs": [],
   "source": [
    "def timestampToFeatures(data, time_col='server_timestamp_epoch_ms'):\n",
    "    new_date_cols = ['year', 'month', 'day']\n",
    "    new_time_cols = ['hour', 'minute', 'second']\n",
    "    \n",
    "    data['datetime_string'] = data[time_col].apply(lambda x: time.strftime(\"%Y-%m-%d %H:%M:%S\", time.gmtime(x/1000)))\n",
    "    \n",
    "    data[['date', 'time']] = data['datetime_string'].str.split(' ', expand = True)\n",
    "    data[new_date_cols] = data['date'].str.split('-', expand = True).astype(int)\n",
    "    data[new_time_cols] = data['time'].str.split(':', expand = True).astype(int)\n",
    "    \n",
    "    data.drop(['datetime_string', 'date', 'time'], axis=1, inplace=True)\n",
    "    \n",
    "    return data"
   ]
  },
  {
   "cell_type": "code",
   "execution_count": 20,
   "id": "9b6e2ce9",
   "metadata": {},
   "outputs": [],
   "source": [
    "dfW = timestampToFeatures(dfW, 'server_timestamp_epoch_ms')"
   ]
  },
  {
   "cell_type": "code",
   "execution_count": 21,
   "id": "5fc09319",
   "metadata": {},
   "outputs": [
    {
     "data": {
      "text/html": [
       "<div>\n",
       "<style scoped>\n",
       "    .dataframe tbody tr th:only-of-type {\n",
       "        vertical-align: middle;\n",
       "    }\n",
       "\n",
       "    .dataframe tbody tr th {\n",
       "        vertical-align: top;\n",
       "    }\n",
       "\n",
       "    .dataframe thead th {\n",
       "        text-align: right;\n",
       "    }\n",
       "</style>\n",
       "<table border=\"1\" class=\"dataframe\">\n",
       "  <thead>\n",
       "    <tr style=\"text-align: right;\">\n",
       "      <th></th>\n",
       "      <th>session_id_hash</th>\n",
       "      <th>event_type</th>\n",
       "      <th>product_action</th>\n",
       "      <th>product_skus_hash</th>\n",
       "      <th>server_timestamp_epoch_ms</th>\n",
       "      <th>hashed_url</th>\n",
       "      <th>viewing_product</th>\n",
       "      <th>time_sitting</th>\n",
       "      <th>year</th>\n",
       "      <th>month</th>\n",
       "      <th>day</th>\n",
       "      <th>hour</th>\n",
       "      <th>minute</th>\n",
       "      <th>second</th>\n",
       "    </tr>\n",
       "  </thead>\n",
       "  <tbody>\n",
       "    <tr>\n",
       "      <th>0</th>\n",
       "      <td>00007d15aeb741b3cdd873cb3933351d699cc320</td>\n",
       "      <td>pageview</td>\n",
       "      <td>pageview</td>\n",
       "      <td>None</td>\n",
       "      <td>1544908835402</td>\n",
       "      <td>ea7b2493be61ff454f8cce412f9dc281e605daec8c43b5...</td>\n",
       "      <td>0</td>\n",
       "      <td>0.0</td>\n",
       "      <td>2018</td>\n",
       "      <td>12</td>\n",
       "      <td>15</td>\n",
       "      <td>21</td>\n",
       "      <td>20</td>\n",
       "      <td>35</td>\n",
       "    </tr>\n",
       "    <tr>\n",
       "      <th>1</th>\n",
       "      <td>00007d15aeb741b3cdd873cb3933351d699cc320</td>\n",
       "      <td>pageview</td>\n",
       "      <td>pageview</td>\n",
       "      <td>None</td>\n",
       "      <td>1544908847263</td>\n",
       "      <td>ea7b2493be61ff454f8cce412f9dc281e605daec8c43b5...</td>\n",
       "      <td>0</td>\n",
       "      <td>0.0</td>\n",
       "      <td>2018</td>\n",
       "      <td>12</td>\n",
       "      <td>15</td>\n",
       "      <td>21</td>\n",
       "      <td>20</td>\n",
       "      <td>47</td>\n",
       "    </tr>\n",
       "    <tr>\n",
       "      <th>2</th>\n",
       "      <td>00007d15aeb741b3cdd873cb3933351d699cc320</td>\n",
       "      <td>pageview</td>\n",
       "      <td>detail</td>\n",
       "      <td>90add4dd072e160034e98ddea257e0b59441eae00d8955...</td>\n",
       "      <td>1544909035879</td>\n",
       "      <td>8fa1ecf31ececb27ebe9c529966f3d1f907542fe138d5d...</td>\n",
       "      <td>1</td>\n",
       "      <td>0.0</td>\n",
       "      <td>2018</td>\n",
       "      <td>12</td>\n",
       "      <td>15</td>\n",
       "      <td>21</td>\n",
       "      <td>23</td>\n",
       "      <td>55</td>\n",
       "    </tr>\n",
       "    <tr>\n",
       "      <th>3</th>\n",
       "      <td>00007d15aeb741b3cdd873cb3933351d699cc320</td>\n",
       "      <td>pageview</td>\n",
       "      <td>pageview</td>\n",
       "      <td>None</td>\n",
       "      <td>1544909049946</td>\n",
       "      <td>5481ac8074c7ecec6818281b0d12cfddfd005667637925...</td>\n",
       "      <td>0</td>\n",
       "      <td>11861.0</td>\n",
       "      <td>2018</td>\n",
       "      <td>12</td>\n",
       "      <td>15</td>\n",
       "      <td>21</td>\n",
       "      <td>24</td>\n",
       "      <td>9</td>\n",
       "    </tr>\n",
       "    <tr>\n",
       "      <th>4</th>\n",
       "      <td>00007d15aeb741b3cdd873cb3933351d699cc320</td>\n",
       "      <td>pageview</td>\n",
       "      <td>detail</td>\n",
       "      <td>bd81fd361f0ae5438cb712c3a4e0344d05c6ebd4b7aae6...</td>\n",
       "      <td>1544909231588</td>\n",
       "      <td>05b9fd85f8201a96bd8dd102ae83288aae394c91fd53d1...</td>\n",
       "      <td>1</td>\n",
       "      <td>188616.0</td>\n",
       "      <td>2018</td>\n",
       "      <td>12</td>\n",
       "      <td>15</td>\n",
       "      <td>21</td>\n",
       "      <td>27</td>\n",
       "      <td>11</td>\n",
       "    </tr>\n",
       "    <tr>\n",
       "      <th>...</th>\n",
       "      <td>...</td>\n",
       "      <td>...</td>\n",
       "      <td>...</td>\n",
       "      <td>...</td>\n",
       "      <td>...</td>\n",
       "      <td>...</td>\n",
       "      <td>...</td>\n",
       "      <td>...</td>\n",
       "      <td>...</td>\n",
       "      <td>...</td>\n",
       "      <td>...</td>\n",
       "      <td>...</td>\n",
       "      <td>...</td>\n",
       "      <td>...</td>\n",
       "    </tr>\n",
       "    <tr>\n",
       "      <th>4198650</th>\n",
       "      <td>ffffc2bce69fd5da3e9998fd5c788450a726ba4d</td>\n",
       "      <td>pageview</td>\n",
       "      <td>pageview</td>\n",
       "      <td>None</td>\n",
       "      <td>1545570913853</td>\n",
       "      <td>6ddd53c2e8a4513d63b5393db16475c8aefcfbcea0e7c5...</td>\n",
       "      <td>0</td>\n",
       "      <td>23421.0</td>\n",
       "      <td>2018</td>\n",
       "      <td>12</td>\n",
       "      <td>23</td>\n",
       "      <td>13</td>\n",
       "      <td>15</td>\n",
       "      <td>13</td>\n",
       "    </tr>\n",
       "    <tr>\n",
       "      <th>4198651</th>\n",
       "      <td>ffffc2bce69fd5da3e9998fd5c788450a726ba4d</td>\n",
       "      <td>pageview</td>\n",
       "      <td>pageview</td>\n",
       "      <td>None</td>\n",
       "      <td>1545571133716</td>\n",
       "      <td>a2494e01b9fdc0cb2ac36472f19f6ace950ba23d043990...</td>\n",
       "      <td>0</td>\n",
       "      <td>127644.0</td>\n",
       "      <td>2018</td>\n",
       "      <td>12</td>\n",
       "      <td>23</td>\n",
       "      <td>13</td>\n",
       "      <td>18</td>\n",
       "      <td>53</td>\n",
       "    </tr>\n",
       "    <tr>\n",
       "      <th>4198652</th>\n",
       "      <td>ffffc2bce69fd5da3e9998fd5c788450a726ba4d</td>\n",
       "      <td>pageview</td>\n",
       "      <td>detail</td>\n",
       "      <td>81001bca02486bcecc944bc88412be729260f00a54d583...</td>\n",
       "      <td>1545571171266</td>\n",
       "      <td>a498ddf07e784d7d00df18a8f51a81e45aedf57ef8a45a...</td>\n",
       "      <td>1</td>\n",
       "      <td>50187.0</td>\n",
       "      <td>2018</td>\n",
       "      <td>12</td>\n",
       "      <td>23</td>\n",
       "      <td>13</td>\n",
       "      <td>19</td>\n",
       "      <td>31</td>\n",
       "    </tr>\n",
       "    <tr>\n",
       "      <th>4198653</th>\n",
       "      <td>ffffc2bce69fd5da3e9998fd5c788450a726ba4d</td>\n",
       "      <td>pageview</td>\n",
       "      <td>detail</td>\n",
       "      <td>81001bca02486bcecc944bc88412be729260f00a54d583...</td>\n",
       "      <td>1545571237554</td>\n",
       "      <td>a498ddf07e784d7d00df18a8f51a81e45aedf57ef8a45a...</td>\n",
       "      <td>1</td>\n",
       "      <td>17317.0</td>\n",
       "      <td>2018</td>\n",
       "      <td>12</td>\n",
       "      <td>23</td>\n",
       "      <td>13</td>\n",
       "      <td>20</td>\n",
       "      <td>37</td>\n",
       "    </tr>\n",
       "    <tr>\n",
       "      <th>4198654</th>\n",
       "      <td>ffffc2bce69fd5da3e9998fd5c788450a726ba4d</td>\n",
       "      <td>pageview</td>\n",
       "      <td>pageview</td>\n",
       "      <td>None</td>\n",
       "      <td>1545571243349</td>\n",
       "      <td>aaf8c8581bfc7373f63dbdde27304c619bc7db1755ec50...</td>\n",
       "      <td>0</td>\n",
       "      <td>62221.0</td>\n",
       "      <td>2018</td>\n",
       "      <td>12</td>\n",
       "      <td>23</td>\n",
       "      <td>13</td>\n",
       "      <td>20</td>\n",
       "      <td>43</td>\n",
       "    </tr>\n",
       "  </tbody>\n",
       "</table>\n",
       "<p>4198655 rows × 14 columns</p>\n",
       "</div>"
      ],
      "text/plain": [
       "                                  session_id_hash event_type product_action  \\\n",
       "0        00007d15aeb741b3cdd873cb3933351d699cc320   pageview       pageview   \n",
       "1        00007d15aeb741b3cdd873cb3933351d699cc320   pageview       pageview   \n",
       "2        00007d15aeb741b3cdd873cb3933351d699cc320   pageview         detail   \n",
       "3        00007d15aeb741b3cdd873cb3933351d699cc320   pageview       pageview   \n",
       "4        00007d15aeb741b3cdd873cb3933351d699cc320   pageview         detail   \n",
       "...                                           ...        ...            ...   \n",
       "4198650  ffffc2bce69fd5da3e9998fd5c788450a726ba4d   pageview       pageview   \n",
       "4198651  ffffc2bce69fd5da3e9998fd5c788450a726ba4d   pageview       pageview   \n",
       "4198652  ffffc2bce69fd5da3e9998fd5c788450a726ba4d   pageview         detail   \n",
       "4198653  ffffc2bce69fd5da3e9998fd5c788450a726ba4d   pageview         detail   \n",
       "4198654  ffffc2bce69fd5da3e9998fd5c788450a726ba4d   pageview       pageview   \n",
       "\n",
       "                                         product_skus_hash  \\\n",
       "0                                                     None   \n",
       "1                                                     None   \n",
       "2        90add4dd072e160034e98ddea257e0b59441eae00d8955...   \n",
       "3                                                     None   \n",
       "4        bd81fd361f0ae5438cb712c3a4e0344d05c6ebd4b7aae6...   \n",
       "...                                                    ...   \n",
       "4198650                                               None   \n",
       "4198651                                               None   \n",
       "4198652  81001bca02486bcecc944bc88412be729260f00a54d583...   \n",
       "4198653  81001bca02486bcecc944bc88412be729260f00a54d583...   \n",
       "4198654                                               None   \n",
       "\n",
       "         server_timestamp_epoch_ms  \\\n",
       "0                    1544908835402   \n",
       "1                    1544908847263   \n",
       "2                    1544909035879   \n",
       "3                    1544909049946   \n",
       "4                    1544909231588   \n",
       "...                            ...   \n",
       "4198650              1545570913853   \n",
       "4198651              1545571133716   \n",
       "4198652              1545571171266   \n",
       "4198653              1545571237554   \n",
       "4198654              1545571243349   \n",
       "\n",
       "                                                hashed_url  viewing_product  \\\n",
       "0        ea7b2493be61ff454f8cce412f9dc281e605daec8c43b5...                0   \n",
       "1        ea7b2493be61ff454f8cce412f9dc281e605daec8c43b5...                0   \n",
       "2        8fa1ecf31ececb27ebe9c529966f3d1f907542fe138d5d...                1   \n",
       "3        5481ac8074c7ecec6818281b0d12cfddfd005667637925...                0   \n",
       "4        05b9fd85f8201a96bd8dd102ae83288aae394c91fd53d1...                1   \n",
       "...                                                    ...              ...   \n",
       "4198650  6ddd53c2e8a4513d63b5393db16475c8aefcfbcea0e7c5...                0   \n",
       "4198651  a2494e01b9fdc0cb2ac36472f19f6ace950ba23d043990...                0   \n",
       "4198652  a498ddf07e784d7d00df18a8f51a81e45aedf57ef8a45a...                1   \n",
       "4198653  a498ddf07e784d7d00df18a8f51a81e45aedf57ef8a45a...                1   \n",
       "4198654  aaf8c8581bfc7373f63dbdde27304c619bc7db1755ec50...                0   \n",
       "\n",
       "         time_sitting  year  month  day  hour  minute  second  \n",
       "0                 0.0  2018     12   15    21      20      35  \n",
       "1                 0.0  2018     12   15    21      20      47  \n",
       "2                 0.0  2018     12   15    21      23      55  \n",
       "3             11861.0  2018     12   15    21      24       9  \n",
       "4            188616.0  2018     12   15    21      27      11  \n",
       "...               ...   ...    ...  ...   ...     ...     ...  \n",
       "4198650       23421.0  2018     12   23    13      15      13  \n",
       "4198651      127644.0  2018     12   23    13      18      53  \n",
       "4198652       50187.0  2018     12   23    13      19      31  \n",
       "4198653       17317.0  2018     12   23    13      20      37  \n",
       "4198654       62221.0  2018     12   23    13      20      43  \n",
       "\n",
       "[4198655 rows x 14 columns]"
      ]
     },
     "execution_count": 21,
     "metadata": {},
     "output_type": "execute_result"
    }
   ],
   "source": [
    "dfW"
   ]
  },
  {
   "cell_type": "markdown",
   "id": "bca4563b",
   "metadata": {},
   "source": [
    "### Frequency Encoding of the Product"
   ]
  },
  {
   "cell_type": "code",
   "execution_count": 22,
   "id": "2d901ada",
   "metadata": {},
   "outputs": [],
   "source": [
    "def FreqEncodeCol(data, columns):\n",
    "    freq_enc_str = 'freq_enc_'\n",
    "    for col in columns:\n",
    "        new_col_name = freq_enc_str + col\n",
    "        freq_enc_smap = (data.groupby(col).size()) / len(data[col])# series mapping\n",
    "        data[new_col_name] = dfW[col].apply(lambda x : freq_enc_smap[x])\n",
    "        \n",
    "        if ((data[col].unique() == 'None').any()):\n",
    "            data.loc[data[col] != 'None', new_col_name] = data.loc[data[col] != 'None', new_col_name] / (1 - freq_enc_smap['None'])\n",
    "            data.loc[data[col] == 'None', new_col_name] = 0\n",
    "    return data"
   ]
  },
  {
   "cell_type": "code",
   "execution_count": 23,
   "id": "0d6aecf3",
   "metadata": {
    "scrolled": true
   },
   "outputs": [],
   "source": [
    "dfW = FreqEncodeCol(dfW, ['product_skus_hash', 'hashed_url'])"
   ]
  },
  {
   "cell_type": "code",
   "execution_count": 24,
   "id": "1decf1ee",
   "metadata": {},
   "outputs": [
    {
     "data": {
      "text/html": [
       "<div>\n",
       "<style scoped>\n",
       "    .dataframe tbody tr th:only-of-type {\n",
       "        vertical-align: middle;\n",
       "    }\n",
       "\n",
       "    .dataframe tbody tr th {\n",
       "        vertical-align: top;\n",
       "    }\n",
       "\n",
       "    .dataframe thead th {\n",
       "        text-align: right;\n",
       "    }\n",
       "</style>\n",
       "<table border=\"1\" class=\"dataframe\">\n",
       "  <thead>\n",
       "    <tr style=\"text-align: right;\">\n",
       "      <th></th>\n",
       "      <th>session_id_hash</th>\n",
       "      <th>event_type</th>\n",
       "      <th>product_action</th>\n",
       "      <th>product_skus_hash</th>\n",
       "      <th>server_timestamp_epoch_ms</th>\n",
       "      <th>hashed_url</th>\n",
       "      <th>viewing_product</th>\n",
       "      <th>time_sitting</th>\n",
       "      <th>year</th>\n",
       "      <th>month</th>\n",
       "      <th>day</th>\n",
       "      <th>hour</th>\n",
       "      <th>minute</th>\n",
       "      <th>second</th>\n",
       "      <th>freq_enc_product_skus_hash</th>\n",
       "      <th>freq_enc_hashed_url</th>\n",
       "    </tr>\n",
       "  </thead>\n",
       "  <tbody>\n",
       "    <tr>\n",
       "      <th>0</th>\n",
       "      <td>00007d15aeb741b3cdd873cb3933351d699cc320</td>\n",
       "      <td>pageview</td>\n",
       "      <td>pageview</td>\n",
       "      <td>None</td>\n",
       "      <td>1544908835402</td>\n",
       "      <td>ea7b2493be61ff454f8cce412f9dc281e605daec8c43b5...</td>\n",
       "      <td>0</td>\n",
       "      <td>0.0</td>\n",
       "      <td>2018</td>\n",
       "      <td>12</td>\n",
       "      <td>15</td>\n",
       "      <td>21</td>\n",
       "      <td>20</td>\n",
       "      <td>35</td>\n",
       "      <td>0.000000</td>\n",
       "      <td>0.002244</td>\n",
       "    </tr>\n",
       "    <tr>\n",
       "      <th>1</th>\n",
       "      <td>00007d15aeb741b3cdd873cb3933351d699cc320</td>\n",
       "      <td>pageview</td>\n",
       "      <td>pageview</td>\n",
       "      <td>None</td>\n",
       "      <td>1544908847263</td>\n",
       "      <td>ea7b2493be61ff454f8cce412f9dc281e605daec8c43b5...</td>\n",
       "      <td>0</td>\n",
       "      <td>0.0</td>\n",
       "      <td>2018</td>\n",
       "      <td>12</td>\n",
       "      <td>15</td>\n",
       "      <td>21</td>\n",
       "      <td>20</td>\n",
       "      <td>47</td>\n",
       "      <td>0.000000</td>\n",
       "      <td>0.002244</td>\n",
       "    </tr>\n",
       "    <tr>\n",
       "      <th>2</th>\n",
       "      <td>00007d15aeb741b3cdd873cb3933351d699cc320</td>\n",
       "      <td>pageview</td>\n",
       "      <td>detail</td>\n",
       "      <td>90add4dd072e160034e98ddea257e0b59441eae00d8955...</td>\n",
       "      <td>1544909035879</td>\n",
       "      <td>8fa1ecf31ececb27ebe9c529966f3d1f907542fe138d5d...</td>\n",
       "      <td>1</td>\n",
       "      <td>0.0</td>\n",
       "      <td>2018</td>\n",
       "      <td>12</td>\n",
       "      <td>15</td>\n",
       "      <td>21</td>\n",
       "      <td>23</td>\n",
       "      <td>55</td>\n",
       "      <td>0.000137</td>\n",
       "      <td>0.000052</td>\n",
       "    </tr>\n",
       "    <tr>\n",
       "      <th>3</th>\n",
       "      <td>00007d15aeb741b3cdd873cb3933351d699cc320</td>\n",
       "      <td>pageview</td>\n",
       "      <td>pageview</td>\n",
       "      <td>None</td>\n",
       "      <td>1544909049946</td>\n",
       "      <td>5481ac8074c7ecec6818281b0d12cfddfd005667637925...</td>\n",
       "      <td>0</td>\n",
       "      <td>11861.0</td>\n",
       "      <td>2018</td>\n",
       "      <td>12</td>\n",
       "      <td>15</td>\n",
       "      <td>21</td>\n",
       "      <td>24</td>\n",
       "      <td>9</td>\n",
       "      <td>0.000000</td>\n",
       "      <td>0.000308</td>\n",
       "    </tr>\n",
       "    <tr>\n",
       "      <th>4</th>\n",
       "      <td>00007d15aeb741b3cdd873cb3933351d699cc320</td>\n",
       "      <td>pageview</td>\n",
       "      <td>detail</td>\n",
       "      <td>bd81fd361f0ae5438cb712c3a4e0344d05c6ebd4b7aae6...</td>\n",
       "      <td>1544909231588</td>\n",
       "      <td>05b9fd85f8201a96bd8dd102ae83288aae394c91fd53d1...</td>\n",
       "      <td>1</td>\n",
       "      <td>188616.0</td>\n",
       "      <td>2018</td>\n",
       "      <td>12</td>\n",
       "      <td>15</td>\n",
       "      <td>21</td>\n",
       "      <td>27</td>\n",
       "      <td>11</td>\n",
       "      <td>0.000159</td>\n",
       "      <td>0.000061</td>\n",
       "    </tr>\n",
       "    <tr>\n",
       "      <th>...</th>\n",
       "      <td>...</td>\n",
       "      <td>...</td>\n",
       "      <td>...</td>\n",
       "      <td>...</td>\n",
       "      <td>...</td>\n",
       "      <td>...</td>\n",
       "      <td>...</td>\n",
       "      <td>...</td>\n",
       "      <td>...</td>\n",
       "      <td>...</td>\n",
       "      <td>...</td>\n",
       "      <td>...</td>\n",
       "      <td>...</td>\n",
       "      <td>...</td>\n",
       "      <td>...</td>\n",
       "      <td>...</td>\n",
       "    </tr>\n",
       "    <tr>\n",
       "      <th>4198650</th>\n",
       "      <td>ffffc2bce69fd5da3e9998fd5c788450a726ba4d</td>\n",
       "      <td>pageview</td>\n",
       "      <td>pageview</td>\n",
       "      <td>None</td>\n",
       "      <td>1545570913853</td>\n",
       "      <td>6ddd53c2e8a4513d63b5393db16475c8aefcfbcea0e7c5...</td>\n",
       "      <td>0</td>\n",
       "      <td>23421.0</td>\n",
       "      <td>2018</td>\n",
       "      <td>12</td>\n",
       "      <td>23</td>\n",
       "      <td>13</td>\n",
       "      <td>15</td>\n",
       "      <td>13</td>\n",
       "      <td>0.000000</td>\n",
       "      <td>0.003274</td>\n",
       "    </tr>\n",
       "    <tr>\n",
       "      <th>4198651</th>\n",
       "      <td>ffffc2bce69fd5da3e9998fd5c788450a726ba4d</td>\n",
       "      <td>pageview</td>\n",
       "      <td>pageview</td>\n",
       "      <td>None</td>\n",
       "      <td>1545571133716</td>\n",
       "      <td>a2494e01b9fdc0cb2ac36472f19f6ace950ba23d043990...</td>\n",
       "      <td>0</td>\n",
       "      <td>127644.0</td>\n",
       "      <td>2018</td>\n",
       "      <td>12</td>\n",
       "      <td>23</td>\n",
       "      <td>13</td>\n",
       "      <td>18</td>\n",
       "      <td>53</td>\n",
       "      <td>0.000000</td>\n",
       "      <td>0.000047</td>\n",
       "    </tr>\n",
       "    <tr>\n",
       "      <th>4198652</th>\n",
       "      <td>ffffc2bce69fd5da3e9998fd5c788450a726ba4d</td>\n",
       "      <td>pageview</td>\n",
       "      <td>detail</td>\n",
       "      <td>81001bca02486bcecc944bc88412be729260f00a54d583...</td>\n",
       "      <td>1545571171266</td>\n",
       "      <td>a498ddf07e784d7d00df18a8f51a81e45aedf57ef8a45a...</td>\n",
       "      <td>1</td>\n",
       "      <td>50187.0</td>\n",
       "      <td>2018</td>\n",
       "      <td>12</td>\n",
       "      <td>23</td>\n",
       "      <td>13</td>\n",
       "      <td>19</td>\n",
       "      <td>31</td>\n",
       "      <td>0.000670</td>\n",
       "      <td>0.000257</td>\n",
       "    </tr>\n",
       "    <tr>\n",
       "      <th>4198653</th>\n",
       "      <td>ffffc2bce69fd5da3e9998fd5c788450a726ba4d</td>\n",
       "      <td>pageview</td>\n",
       "      <td>detail</td>\n",
       "      <td>81001bca02486bcecc944bc88412be729260f00a54d583...</td>\n",
       "      <td>1545571237554</td>\n",
       "      <td>a498ddf07e784d7d00df18a8f51a81e45aedf57ef8a45a...</td>\n",
       "      <td>1</td>\n",
       "      <td>17317.0</td>\n",
       "      <td>2018</td>\n",
       "      <td>12</td>\n",
       "      <td>23</td>\n",
       "      <td>13</td>\n",
       "      <td>20</td>\n",
       "      <td>37</td>\n",
       "      <td>0.000670</td>\n",
       "      <td>0.000257</td>\n",
       "    </tr>\n",
       "    <tr>\n",
       "      <th>4198654</th>\n",
       "      <td>ffffc2bce69fd5da3e9998fd5c788450a726ba4d</td>\n",
       "      <td>pageview</td>\n",
       "      <td>pageview</td>\n",
       "      <td>None</td>\n",
       "      <td>1545571243349</td>\n",
       "      <td>aaf8c8581bfc7373f63dbdde27304c619bc7db1755ec50...</td>\n",
       "      <td>0</td>\n",
       "      <td>62221.0</td>\n",
       "      <td>2018</td>\n",
       "      <td>12</td>\n",
       "      <td>23</td>\n",
       "      <td>13</td>\n",
       "      <td>20</td>\n",
       "      <td>43</td>\n",
       "      <td>0.000000</td>\n",
       "      <td>0.000986</td>\n",
       "    </tr>\n",
       "  </tbody>\n",
       "</table>\n",
       "<p>4198655 rows × 16 columns</p>\n",
       "</div>"
      ],
      "text/plain": [
       "                                  session_id_hash event_type product_action  \\\n",
       "0        00007d15aeb741b3cdd873cb3933351d699cc320   pageview       pageview   \n",
       "1        00007d15aeb741b3cdd873cb3933351d699cc320   pageview       pageview   \n",
       "2        00007d15aeb741b3cdd873cb3933351d699cc320   pageview         detail   \n",
       "3        00007d15aeb741b3cdd873cb3933351d699cc320   pageview       pageview   \n",
       "4        00007d15aeb741b3cdd873cb3933351d699cc320   pageview         detail   \n",
       "...                                           ...        ...            ...   \n",
       "4198650  ffffc2bce69fd5da3e9998fd5c788450a726ba4d   pageview       pageview   \n",
       "4198651  ffffc2bce69fd5da3e9998fd5c788450a726ba4d   pageview       pageview   \n",
       "4198652  ffffc2bce69fd5da3e9998fd5c788450a726ba4d   pageview         detail   \n",
       "4198653  ffffc2bce69fd5da3e9998fd5c788450a726ba4d   pageview         detail   \n",
       "4198654  ffffc2bce69fd5da3e9998fd5c788450a726ba4d   pageview       pageview   \n",
       "\n",
       "                                         product_skus_hash  \\\n",
       "0                                                     None   \n",
       "1                                                     None   \n",
       "2        90add4dd072e160034e98ddea257e0b59441eae00d8955...   \n",
       "3                                                     None   \n",
       "4        bd81fd361f0ae5438cb712c3a4e0344d05c6ebd4b7aae6...   \n",
       "...                                                    ...   \n",
       "4198650                                               None   \n",
       "4198651                                               None   \n",
       "4198652  81001bca02486bcecc944bc88412be729260f00a54d583...   \n",
       "4198653  81001bca02486bcecc944bc88412be729260f00a54d583...   \n",
       "4198654                                               None   \n",
       "\n",
       "         server_timestamp_epoch_ms  \\\n",
       "0                    1544908835402   \n",
       "1                    1544908847263   \n",
       "2                    1544909035879   \n",
       "3                    1544909049946   \n",
       "4                    1544909231588   \n",
       "...                            ...   \n",
       "4198650              1545570913853   \n",
       "4198651              1545571133716   \n",
       "4198652              1545571171266   \n",
       "4198653              1545571237554   \n",
       "4198654              1545571243349   \n",
       "\n",
       "                                                hashed_url  viewing_product  \\\n",
       "0        ea7b2493be61ff454f8cce412f9dc281e605daec8c43b5...                0   \n",
       "1        ea7b2493be61ff454f8cce412f9dc281e605daec8c43b5...                0   \n",
       "2        8fa1ecf31ececb27ebe9c529966f3d1f907542fe138d5d...                1   \n",
       "3        5481ac8074c7ecec6818281b0d12cfddfd005667637925...                0   \n",
       "4        05b9fd85f8201a96bd8dd102ae83288aae394c91fd53d1...                1   \n",
       "...                                                    ...              ...   \n",
       "4198650  6ddd53c2e8a4513d63b5393db16475c8aefcfbcea0e7c5...                0   \n",
       "4198651  a2494e01b9fdc0cb2ac36472f19f6ace950ba23d043990...                0   \n",
       "4198652  a498ddf07e784d7d00df18a8f51a81e45aedf57ef8a45a...                1   \n",
       "4198653  a498ddf07e784d7d00df18a8f51a81e45aedf57ef8a45a...                1   \n",
       "4198654  aaf8c8581bfc7373f63dbdde27304c619bc7db1755ec50...                0   \n",
       "\n",
       "         time_sitting  year  month  day  hour  minute  second  \\\n",
       "0                 0.0  2018     12   15    21      20      35   \n",
       "1                 0.0  2018     12   15    21      20      47   \n",
       "2                 0.0  2018     12   15    21      23      55   \n",
       "3             11861.0  2018     12   15    21      24       9   \n",
       "4            188616.0  2018     12   15    21      27      11   \n",
       "...               ...   ...    ...  ...   ...     ...     ...   \n",
       "4198650       23421.0  2018     12   23    13      15      13   \n",
       "4198651      127644.0  2018     12   23    13      18      53   \n",
       "4198652       50187.0  2018     12   23    13      19      31   \n",
       "4198653       17317.0  2018     12   23    13      20      37   \n",
       "4198654       62221.0  2018     12   23    13      20      43   \n",
       "\n",
       "         freq_enc_product_skus_hash  freq_enc_hashed_url  \n",
       "0                          0.000000             0.002244  \n",
       "1                          0.000000             0.002244  \n",
       "2                          0.000137             0.000052  \n",
       "3                          0.000000             0.000308  \n",
       "4                          0.000159             0.000061  \n",
       "...                             ...                  ...  \n",
       "4198650                    0.000000             0.003274  \n",
       "4198651                    0.000000             0.000047  \n",
       "4198652                    0.000670             0.000257  \n",
       "4198653                    0.000670             0.000257  \n",
       "4198654                    0.000000             0.000986  \n",
       "\n",
       "[4198655 rows x 16 columns]"
      ]
     },
     "execution_count": 24,
     "metadata": {},
     "output_type": "execute_result"
    }
   ],
   "source": [
    "dfW"
   ]
  },
  {
   "cell_type": "markdown",
   "id": "66a29dcb",
   "metadata": {},
   "source": [
    "## Feature Encoding"
   ]
  },
  {
   "cell_type": "markdown",
   "id": "9d19970c",
   "metadata": {},
   "source": [
    "### Function to ordinally encode desired columns"
   ]
  },
  {
   "cell_type": "code",
   "execution_count": 25,
   "id": "4c96a589",
   "metadata": {},
   "outputs": [],
   "source": [
    "def ord_encoder(data, enc_cols, series=False):\n",
    "    maps = {}\n",
    "    for col in enc_cols:\n",
    "        # encoding value for NaN values\n",
    "\n",
    "        # put all unique values into list\n",
    "        myList = data[col].unique()\n",
    "\n",
    "        # dictionary to map values to encoded integers by index\n",
    "        mapper = dict(map(reversed,enumerate(myList))) \n",
    "\n",
    "        # encode values with value > 0 (0 is value used for padding)\n",
    "        for key in mapper:\n",
    "            mapper[key] = mapper[key] + 1\n",
    "\n",
    "        maps[col] = mapper\n",
    "\n",
    "        # map to encoded values\n",
    "        data[col] = data[col].apply(lambda x: mapper[x])        \n",
    "        \n",
    "    return maps, data"
   ]
  },
  {
   "cell_type": "code",
   "execution_count": 26,
   "id": "69809d61",
   "metadata": {},
   "outputs": [],
   "source": [
    "enc_cols = ['session_id_hash', 'event_type', 'product_action', 'product_skus_hash', 'hashed_url']\n",
    "col_maps, dfW = ord_encoder(dfW, enc_cols)"
   ]
  },
  {
   "cell_type": "code",
   "execution_count": null,
   "id": "3a7da1db",
   "metadata": {},
   "outputs": [],
   "source": []
  },
  {
   "cell_type": "code",
   "execution_count": null,
   "id": "fb68e706",
   "metadata": {},
   "outputs": [],
   "source": []
  },
  {
   "cell_type": "markdown",
   "id": "5032ab05",
   "metadata": {},
   "source": [
    "## Put into Acceptable Input Form"
   ]
  },
  {
   "cell_type": "code",
   "execution_count": 27,
   "id": "4d653879",
   "metadata": {},
   "outputs": [],
   "source": [
    "maps = {}\n",
    "enc_cols = ['product_action']\n",
    "for col in enc_cols:\n",
    "    # encoding value for NaN values\n",
    "\n",
    "    # put all unique values into list\n",
    "    myList = df[col].unique()\n",
    "\n",
    "#     # dictionary to map values to encoded integers by index\n",
    "    mapper = dict(map(reversed,enumerate(myList))) \n",
    "\n",
    "    # encode values with value > 0 (0 is value used for padding)\n",
    "    for key in mapper:\n",
    "        mapper[key] = mapper[key] + 1\n",
    "\n",
    "    maps[col] = mapper\n",
    "\n",
    "#     # map to encoded values\n",
    "#     data[col] = data[col].apply(lambda x: mapper[x])"
   ]
  },
  {
   "cell_type": "code",
   "execution_count": null,
   "id": "07889664",
   "metadata": {},
   "outputs": [],
   "source": []
  },
  {
   "cell_type": "markdown",
   "id": "5ee6d5f3",
   "metadata": {},
   "source": [
    "### Create Labels"
   ]
  },
  {
   "cell_type": "markdown",
   "id": "3fd00efe",
   "metadata": {},
   "source": [
    "#### Create Labels for Purchase (True) or No Purchase (False)"
   ]
  },
  {
   "cell_type": "code",
   "execution_count": 28,
   "id": "e4e30c7d",
   "metadata": {},
   "outputs": [],
   "source": [
    "## this code was here, but not sure what it did\n",
    "\n",
    "#df['Expected'] = (g['Value1'].transform(lambda x: x.eq(7).any()))&(g['Value2'].transform(lambda x: x.eq(9).any()))"
   ]
  },
  {
   "cell_type": "code",
   "execution_count": 98,
   "id": "aa2fa5ce",
   "metadata": {},
   "outputs": [],
   "source": [
    "def CreateTwoLabels(data):\n",
    "    data['Label'] = data.groupby('session_id_hash')['product_action'].transform(lambda x: x.eq(col_maps['product_action']['purchase']).any())\n",
    "    labels = data.groupby('session_id_hash')['Label'].unique().apply(list)\n",
    "    data.drop('Label', axis=1, inplace=True)\n",
    "    \n",
    "    new_labels = np.empty([labels.shape[0],1])\n",
    "    for i, v in enumerate(labels):\n",
    "        new_labels[i] = v[0]\n",
    "    return new_labels.astype(int)\n",
    "    "
   ]
  },
  {
   "cell_type": "code",
   "execution_count": 99,
   "id": "8ece4235",
   "metadata": {},
   "outputs": [],
   "source": [
    "my2Labels = CreateTwoLabels(dfW)\n",
    "\n",
    "assert(len(my2Labels) == len(dfW['session_id_hash'].unique()))"
   ]
  },
  {
   "cell_type": "code",
   "execution_count": 106,
   "id": "25828bc4",
   "metadata": {},
   "outputs": [
    {
     "data": {
      "text/plain": [
       "(array([0., 1.]), array([194755,   8372]))"
      ]
     },
     "execution_count": 106,
     "metadata": {},
     "output_type": "execute_result"
    }
   ],
   "source": [
    "np.unique(my2Labels, return_counts=True)"
   ]
  },
  {
   "cell_type": "markdown",
   "id": "8fdc982c",
   "metadata": {},
   "source": [
    "#### Create Labels for Purchase, No Purchase, or Abandon Cart"
   ]
  },
  {
   "cell_type": "code",
   "execution_count": 100,
   "id": "778f8e18",
   "metadata": {},
   "outputs": [],
   "source": [
    "def check_df(data):\n",
    "  if (data['Label1'] == False and data['Label2'] == False):\n",
    "    return 0\n",
    "  elif (data['Label1'] == False and data['Label2'] == True):\n",
    "    return 1\n",
    "  else:\n",
    "    return 2"
   ]
  },
  {
   "cell_type": "code",
   "execution_count": 152,
   "id": "b503632d",
   "metadata": {},
   "outputs": [],
   "source": [
    "def CreateThreeLabels(data):\n",
    "    data['Label1'] = data.groupby('session_id_hash')['product_action'].transform(lambda x: x.eq(col_maps['product_action']['purchase']).any())\n",
    "    data['Label2'] = data['Label1']\n",
    "    data.loc[~data['Label1'], 'Label2'] = data.loc[~data['Label1'], ['session_id_hash', 'product_action', 'Label2']].groupby('session_id_hash')['product_action'].transform(lambda x: x.eq(col_maps['product_action']['add']).any())\n",
    "    data['Label3'] = data.apply(check_df, axis=1)\n",
    "    labels = data.groupby('session_id_hash')['Label3'].unique().apply(list)\n",
    "    data.drop(['Label1', 'Label2', 'Label3'], axis=1, inplace=True)\n",
    "    new_labels = np.empty([labels.shape[0],1])\n",
    "    for i, v in enumerate(labels):\n",
    "        new_labels[i] = v[0]\n",
    "    return new_labels.astype(int)\n",
    "    "
   ]
  },
  {
   "cell_type": "code",
   "execution_count": 153,
   "id": "463c9035",
   "metadata": {},
   "outputs": [],
   "source": [
    "my3Labels = CreateThreeLabels(dfW)\n",
    "assert(len(my3Labels) == len(dfW['session_id_hash'].unique()))"
   ]
  },
  {
   "cell_type": "code",
   "execution_count": 154,
   "id": "8283e57d",
   "metadata": {},
   "outputs": [
    {
     "data": {
      "text/plain": [
       "(array([0., 1., 2.]), array([164674,  30081,   8372]))"
      ]
     },
     "execution_count": 154,
     "metadata": {},
     "output_type": "execute_result"
    }
   ],
   "source": [
    "np.unique(my3Labels, return_counts = True)"
   ]
  },
  {
   "cell_type": "markdown",
   "id": "a744efa0",
   "metadata": {},
   "source": [
    "### Scale Desired Columns"
   ]
  },
  {
   "cell_type": "code",
   "execution_count": 34,
   "id": "fb2bad81",
   "metadata": {},
   "outputs": [],
   "source": [
    "def NormalizeCols(data, norm_cols):\n",
    "    data[norm_cols] = (data[norm_cols]-data[norm_cols].min())/(data[norm_cols].max() - data[norm_cols].min())\n",
    "    return data\n"
   ]
  },
  {
   "cell_type": "code",
   "execution_count": 295,
   "id": "a3c2b032",
   "metadata": {},
   "outputs": [],
   "source": [
    "norm_cols = ['time_sitting', 'day', 'hour', 'minute']\n",
    "dfW = NormalizeCols(dfW, norm_cols)"
   ]
  },
  {
   "cell_type": "markdown",
   "id": "5ee43cc0",
   "metadata": {},
   "source": [
    "# Data Analysis"
   ]
  },
  {
   "cell_type": "code",
   "execution_count": 297,
   "id": "26429da1",
   "metadata": {},
   "outputs": [
    {
     "data": {
      "text/plain": [
       "(array([2.510161e+06, 7.728710e+05, 3.248280e+05, 1.707060e+05,\n",
       "        1.011960e+05, 6.590700e+04, 4.555000e+04, 3.236100e+04,\n",
       "        2.471600e+04, 1.922100e+04, 1.511700e+04, 1.232500e+04,\n",
       "        1.009200e+04, 8.543000e+03, 7.252000e+03, 6.062000e+03,\n",
       "        5.159000e+03, 4.553000e+03, 4.116000e+03, 3.582000e+03,\n",
       "        3.326000e+03, 2.902000e+03, 2.627000e+03, 2.475000e+03,\n",
       "        2.242000e+03, 2.092000e+03, 1.978000e+03, 1.740000e+03,\n",
       "        1.619000e+03, 1.514000e+03]),\n",
       " array([0.        , 0.01333333, 0.02666667, 0.04      , 0.05333333,\n",
       "        0.06666667, 0.08      , 0.09333333, 0.10666667, 0.12      ,\n",
       "        0.13333333, 0.14666667, 0.16      , 0.17333333, 0.18666667,\n",
       "        0.2       , 0.21333333, 0.22666667, 0.24      , 0.25333333,\n",
       "        0.26666667, 0.28      , 0.29333333, 0.30666667, 0.32      ,\n",
       "        0.33333333, 0.34666667, 0.36      , 0.37333333, 0.38666667,\n",
       "        0.4       ]),\n",
       " <BarContainer object of 30 artists>)"
      ]
     },
     "execution_count": 297,
     "metadata": {},
     "output_type": "execute_result"
    },
    {
     "data": {
      "image/png": "[encoded data removed]",
      "text/plain": [
       "<Figure size 432x288 with 1 Axes>"
      ]
     },
     "metadata": {
      "needs_background": "light"
     },
     "output_type": "display_data"
    }
   ],
   "source": [
    "x = dfW.time_sitting\n",
    "plt.hist(x, bins=30, range=(x.min(), 0.4))"
   ]
  },
  {
   "cell_type": "code",
   "execution_count": 298,
   "id": "aac91347",
   "metadata": {},
   "outputs": [
    {
     "data": {
      "image/png": "[encoded data removed]",
      "text/plain": [
       "<Figure size 432x288 with 3 Axes>"
      ]
     },
     "metadata": {
      "needs_background": "light"
     },
     "output_type": "display_data"
    }
   ],
   "source": [
    "x1 = dfW.day\n",
    "x2 = dfW.hour\n",
    "x3 = dfW.minute\n",
    "\n",
    "\n",
    "# Set the second subplot as active, and make the second plot. \n",
    "plt.subplot(3, 1, 1) \n",
    "plt.hist(x1) \n",
    "plt.title('Day')  \n",
    "\n",
    "# Make the third plot \n",
    "plt.subplot(3, 1, 2) \n",
    "plt.hist(x2) \n",
    "plt.title('Hour')  \n",
    "\n",
    "# Make the fourth plot \n",
    "plt.subplot(3, 1, 3) \n",
    "plt.hist(x3) \n",
    "plt.title('Minute') \n",
    "   \n",
    "# Show the figure. \n",
    "plt.show()"
   ]
  },
  {
   "cell_type": "code",
   "execution_count": null,
   "id": "9319811e",
   "metadata": {},
   "outputs": [],
   "source": []
  },
  {
   "cell_type": "code",
   "execution_count": null,
   "id": "d1c5587f",
   "metadata": {},
   "outputs": [],
   "source": []
  },
  {
   "cell_type": "markdown",
   "id": "d651d92a",
   "metadata": {},
   "source": [
    "## Remove Unecessary Columns"
   ]
  },
  {
   "cell_type": "code",
   "execution_count": null,
   "id": "479c84b5",
   "metadata": {},
   "outputs": [],
   "source": [
    "cols_to_drop = ['server_timestamp_epoch_ms', 'product_skus_hash', 'hashed_url', 'year', 'month', 'second']\n",
    "dfW.drop(cols_to_drop, axis=1, inplace=True)"
   ]
  },
  {
   "cell_type": "markdown",
   "id": "1663930b",
   "metadata": {},
   "source": [
    "### Convert to Data Numpy Array (Later to Tensor)"
   ]
  },
  {
   "cell_type": "code",
   "execution_count": 300,
   "id": "77fd5e66",
   "metadata": {},
   "outputs": [],
   "source": [
    "# find the maximum sequence length to pad to\n",
    "maxSeqLen = dfW.groupby('session_id_hash').count().max().max() # should be 155 or a bit less than 155\n",
    "\n",
    "# convert to numpy array\n",
    "# https://stackoverflow.com/questions/65767833/pandas-dataframe-to-tensor\n",
    "seq_arrays = np.asarray(dfW.groupby(['session_id_hash']).apply(np.array))\n"
   ]
  },
  {
   "cell_type": "markdown",
   "id": "a6a22c07",
   "metadata": {},
   "source": [
    "### Get Rid of Purchase Actions and all actions after"
   ]
  },
  {
   "cell_type": "code",
   "execution_count": 301,
   "id": "5ed236fa",
   "metadata": {},
   "outputs": [],
   "source": [
    "# arr3D[x][y][z], x = session, y = sequence_row, z is column... z=1 is 'product action'\n",
    "# this function removes all rows after purchase is made (including purchase row) for 3d numpy array with above dims\n",
    "def removeRowsAfterPurchase(arr3D, column, value):\n",
    "    for i, x in enumerate(arr3D):\n",
    "        for j, y in enumerate(arr3D[i]):\n",
    "            if (arr3D[i][j][column] == value):\n",
    "                arr3D[i] = arr3D[i][1:j]\n",
    "                break\n",
    "    return arr3D"
   ]
  },
  {
   "cell_type": "code",
   "execution_count": 302,
   "id": "bfeee525",
   "metadata": {},
   "outputs": [],
   "source": [
    "colName = 'product_action'\n",
    "colInd = dfW.columns.get_loc(colName)\n",
    "seq_arrays = removeRowsAfterPurchase(seq_arrays, colInd, col_maps[colName]['purchase'])"
   ]
  },
  {
   "cell_type": "markdown",
   "id": "9158a85a",
   "metadata": {},
   "source": [
    "### Put into Correct Input Shape\n",
    "- Input data: RNN should have 3 dimensions. (Batch Size, Sequence Length and Input Dimension) (https://www.analyticsvidhya.com/blog/2021/07/understanding-rnn-step-by-step-with-pytorch/#:~:text=Here%20input%20size%20is%202,otherwise%20it%20will%20be%201.)\n",
    "    - Batch Size is the number of samples we send to the model at a time. (this is chosen)\n",
    "    - Sequence Length is the length of the sequence of input data (should be about <= 155)\n",
    "    - Input Dimension is the number of features or dimensions you are using in your data set (number of columns)"
   ]
  },
  {
   "cell_type": "markdown",
   "id": "234005c6",
   "metadata": {},
   "source": [
    "#### Padding and Removing SessionID"
   ]
  },
  {
   "cell_type": "code",
   "execution_count": 303,
   "id": "fef074a6",
   "metadata": {},
   "outputs": [],
   "source": [
    "# drop first column (session_id_hash)\n",
    "# pad with zeros at end\n",
    "for i, seq in enumerate(seq_arrays):\n",
    "    seq_arrays[i] = np.delete(seq_arrays[i], 0, axis = 1)\n",
    "    seq_arrays[i] = np.pad(seq_arrays[i], ((0, maxSeqLen - seq_arrays[i].shape[0]),(0,0)), 'constant')"
   ]
  },
  {
   "cell_type": "code",
   "execution_count": 304,
   "id": "ea50088b",
   "metadata": {},
   "outputs": [],
   "source": [
    "seq_arrays = np.asarray([i for i in seq_arrays])"
   ]
  },
  {
   "cell_type": "code",
   "execution_count": null,
   "id": "feef33c0",
   "metadata": {},
   "outputs": [],
   "source": []
  },
  {
   "cell_type": "markdown",
   "id": "2d56f934",
   "metadata": {},
   "source": [
    "# Modelling"
   ]
  },
  {
   "cell_type": "markdown",
   "id": "d655bcdb",
   "metadata": {},
   "source": [
    "### Baseline - The baseline would be predicting that nobody will purchase\n",
    "## THIS SHOULD BE PUT LATER ACTUALLY ONCE CLASSES ARE MADE MORE BALANCED"
   ]
  },
  {
   "cell_type": "markdown",
   "id": "e2692d94",
   "metadata": {},
   "source": [
    "#### For 2 Labels"
   ]
  },
  {
   "cell_type": "code",
   "execution_count": 372,
   "id": "cc8c2b43",
   "metadata": {},
   "outputs": [
    {
     "data": {
      "text/plain": [
       "0.9587844058150812"
      ]
     },
     "execution_count": 372,
     "metadata": {},
     "output_type": "execute_result"
    }
   ],
   "source": [
    "np.unique(my2Labels, return_counts = True)[1][0] / len(my2Labels)"
   ]
  },
  {
   "cell_type": "markdown",
   "id": "3da8d845",
   "metadata": {},
   "source": [
    "#### For 3 Labels"
   ]
  },
  {
   "cell_type": "code",
   "execution_count": 373,
   "id": "0d6fd1ce",
   "metadata": {},
   "outputs": [
    {
     "data": {
      "text/plain": [
       "0.8106947870051741"
      ]
     },
     "execution_count": 373,
     "metadata": {},
     "output_type": "execute_result"
    }
   ],
   "source": [
    "np.unique(my3Labels, return_counts = True)[1][0] / len(my2Labels)"
   ]
  },
  {
   "cell_type": "code",
   "execution_count": null,
   "id": "a4e5c373",
   "metadata": {},
   "outputs": [],
   "source": []
  },
  {
   "cell_type": "markdown",
   "id": "c2ef443d",
   "metadata": {},
   "source": [
    "####\n",
    "- https://ai.stackexchange.com/questions/3156/how-to-select-number-of-hidden-layers-and-number-of-memory-cells-in-an-lstm\n",
    "\n",
    "- There's one additional rule of thumb that helps for supervised learning problems. You can usually prevent over-fitting if you keep your number of neurons below:\n",
    "\n",
    "𝑁ℎ=𝑁𝑠(𝛼∗(𝑁𝑖+𝑁𝑜))\n",
    "\n",
    "- 𝑁𝑖 = number of input neurons.\n",
    "- 𝑁𝑜 = number of output neurons.\n",
    "- 𝑁𝑠 = number of samples in training data set.\n",
    "- 𝛼 = an arbitrary scaling factor usually 2-10.\n",
    "\n",
    "Guy says he geneerally uses 2"
   ]
  },
  {
   "cell_type": "markdown",
   "id": "04000357",
   "metadata": {},
   "source": [
    "#### https://www.reddit.com/r/MachineLearning/comments/4behuh/does_the_number_of_layers_in_an_lstm_network/\n",
    "Some discussion about what \"depth\" in recurrent architectures means. Downward skip-connections seem to be the most helpful, but in general skip connections are critical in deep recurrent networks."
   ]
  },
  {
   "cell_type": "markdown",
   "id": "5c464fe3",
   "metadata": {},
   "source": [
    "#### \n",
    "- https://stats.stackexchange.com/questions/181/how-to-choose-the-number-of-hidden-layers-and-nodes-in-a-feedforward-neural-netw\n",
    "- usually one hidden layer is fine"
   ]
  },
  {
   "cell_type": "markdown",
   "id": "944f9121",
   "metadata": {},
   "source": [
    "### This looks like best tutorial to follow so far (in an article)\n",
    "- https://blog.floydhub.com/a-beginners-guide-on-recurrent-neural-networks-with-pytorch/\n",
    "- https://coderzcolumn.com/tutorials/artificial-intelligence/pytorch-rnn-for-text-classification-tasks\n",
    "    - didn't look bad either\n",
    "- https://docs.wandb.ai/guides/integrations/pytorch\n",
    "    - logging gradients with wandb"
   ]
  },
  {
   "cell_type": "markdown",
   "id": "8b305bb5",
   "metadata": {},
   "source": [
    "### Youtube Tutorial - Just Like Best One up There\n",
    "- https://www.youtube.com/watch?v=1vGOQAel2yU&ab_channel=SungKim\n",
    "- packed sequence"
   ]
  },
  {
   "cell_type": "markdown",
   "id": "1f7d7666",
   "metadata": {},
   "source": [
    "## Train-Test(-Val)-Split and Dataloader"
   ]
  },
  {
   "cell_type": "code",
   "execution_count": 305,
   "id": "e28f3b80",
   "metadata": {},
   "outputs": [
    {
     "name": "stdout",
     "output_type": "stream",
     "text": [
      "142189\n",
      "30469\n",
      "30469\n"
     ]
    }
   ],
   "source": [
    "print(len(seq_arrays[:train_sz, :, :]))\n",
    "print(len(seq_arrays[train_sz:train_sz+val_sz, :, :]))\n",
    "print(len(seq_arrays[train_sz+val_sz:train_sz+val_sz+test_sz, :, :]))"
   ]
  },
  {
   "cell_type": "code",
   "execution_count": 306,
   "id": "fb16678f",
   "metadata": {},
   "outputs": [],
   "source": [
    "# number of samples in train, val, test\n",
    "tot_num_samp = len(seq_arrays)\n",
    "train_sz = math.ceil(0.7 * tot_num_samp)\n",
    "val_sz = math.floor(0.15 * tot_num_samp)\n",
    "test_sz = math.floor(0.15 * tot_num_samp)\n",
    "\n",
    "# randomize data for splitting\n",
    "randomize = np.arange(len(seq_arrays))\n",
    "np.random.shuffle(randomize)\n",
    "seq_arrays = seq_arrays[randomize]\n",
    "my2Labels = my2Labels[randomize]\n",
    "my3Labels = my3Labels[randomize]\n",
    "\n",
    "\n",
    "\n",
    "# indices to grab separate data\n",
    "train_val_ind = train_sz+val_sz\n",
    "train_val_test_ind = train_sz+val_sz+test_sz\n",
    "\n",
    "# split into train val test (for 2 labels and 3 labels)\n",
    "train_x, val_x, test_x = seq_arrays[:train_sz, :, :], seq_arrays[train_sz:train_val_ind, :, :], seq_arrays[train_val_ind:train_val_test_ind, :, :]\n",
    "train_y_2, val_y_2, test_y_2 = my2Labels[:train_sz, :], my2Labels[train_sz:train_val_ind, :], my2Labels[train_val_ind:train_val_test_ind, :]\n",
    "train_y_3, val_y_3, test_y_3 = my3Labels[:train_sz, :], my3Labels[train_sz:train_val_ind, :], my3Labels[train_val_ind:train_val_test_ind, :]\n",
    "\n",
    "assert(len(train_x) == train_sz & len(train_y_2) == train_sz & len(train_y_3) == train_sz)\n",
    "assert(len(val_x) == val_sz & len(val_y_2) == val_sz & len(val_y_3) == val_sz)\n",
    "assert(len(test_x) == test_sz & len(test_y_2) == test_sz & len(test_y_3) == test_sz)\n",
    "\n"
   ]
  },
  {
   "cell_type": "code",
   "execution_count": 307,
   "id": "6a41b8e4",
   "metadata": {},
   "outputs": [
    {
     "name": "stdout",
     "output_type": "stream",
     "text": [
      "(array([0, 1]), array([136359,   5830])) should be similar to [136329, 21056, 5860]\n",
      "(array([0, 1]), array([29167,  1302])) should be similar to [29213, 5860]\n",
      "(array([0, 1]), array([29229,  1240])) should be similar to [29213, 5860]\n",
      "(array([0, 1, 2]), array([115344,  20954,   5891])) should be similar to [115272, 21056, 5860]\n",
      "(array([0, 1, 2]), array([24655,  4506,  1308])) should be similar to [24701, 4512, 1255]\n",
      "(array([0, 1, 2]), array([24675,  4621,  1173])) should be similar to [24701, 4512, 1255]\n",
      "Data split evenly\n"
     ]
    }
   ],
   "source": [
    "# see class splits \n",
    "print(np.unique(train_y_2, return_counts=True), \"should be similar to [136329, 21056, 5860]\")\n",
    "print(np.unique(val_y_2, return_counts=True), \"should be similar to [29213, 5860]\")\n",
    "print(np.unique(test_y_2, return_counts=True), \"should be similar to [29213, 5860]\")\n",
    "\n",
    "print(np.unique(train_y_3, return_counts=True), \"should be similar to [115272, 21056, 5860]\")\n",
    "print(np.unique(val_y_3, return_counts=True),   \"should be similar to [24701, 4512, 1255]\")\n",
    "print(np.unique(test_y_3, return_counts=True),  \"should be similar to [24701, 4512, 1255]\")\n",
    "\n",
    "print(\"Data split evenly\")\n"
   ]
  },
  {
   "cell_type": "code",
   "execution_count": 308,
   "id": "b7b16a0c",
   "metadata": {},
   "outputs": [],
   "source": [
    "# Create dataset from several tensors with matching first dimension\n",
    "# Samples will be drawn from the first dimension (rows)\n",
    "train_dataset = TensorDataset( Tensor(train_x), Tensor(train_y_2) )\n",
    "val_dataset = TensorDataset( Tensor(val_x), Tensor(val_y_2) )\n",
    "test_dataset = TensorDataset( Tensor(test_x), Tensor(test_y_2) )\n",
    "\n",
    "batch_size = 64\n",
    "train_dataloader = DataLoader(train_dataset, batch_size=batch_size, shuffle=True)\n",
    "val_dataloader = DataLoader(val_dataset, batch_size=batch_size, shuffle=True)\n",
    "test_dataloader = DataLoader(test_dataset, batch_size=batch_size, shuffle=True)"
   ]
  },
  {
   "cell_type": "markdown",
   "id": "6c79d30a",
   "metadata": {},
   "source": [
    "### Training Function"
   ]
  },
  {
   "cell_type": "code",
   "execution_count": 309,
   "id": "51f494cd",
   "metadata": {},
   "outputs": [],
   "source": [
    "def train_one_epoch(epoch_index, tb_writer):\n",
    "    running_loss = 0.\n",
    "    last_loss = 0.\n",
    "    \n",
    "    # Here, we use enumerate(training_loader) instead of\n",
    "    # iter(training_loader) so that we can track the batch\n",
    "    # index and do some intra-epoch reporting\n",
    "    for i, data in enumerate(training_loader):\n",
    "        # Every data instance is an input + label pair\n",
    "        inputs, labels = data\n",
    "        \n",
    "        # Zero your gradients for every batch!\n",
    "        optimizer.zero_grad()\n",
    "        \n",
    "        # Make predictions for this batch\n",
    "        outputs = model(inputs)\n",
    "        \n",
    "        # Compute the loss and its gradients\n",
    "        loss = loss_fn(outputs, labels)\n",
    "        loss.backward()\n",
    "        \n",
    "        # Adjust learning weights\n",
    "        optimizer.step()\n",
    "        \n",
    "        # Gather data and report\n",
    "        running_loss += loss.item()\n",
    "        if i % 1000 == 999:\n",
    "            last_loss = running_loss / 1000 # loss per batch\n",
    "            print('  batch {} loss: {}'.format(i + 1, last_loss))\n",
    "            tb_x = epoch_index * len(training_loader) + i + 1\n",
    "            tb_writer.add_scalar('Loss/train', last_loss, tb_x)\n",
    "            running_loss = 0.\n",
    "            \n",
    "    return last_loss"
   ]
  },
  {
   "cell_type": "markdown",
   "id": "48e2d711",
   "metadata": {},
   "source": [
    "### Evaluation"
   ]
  },
  {
   "cell_type": "code",
   "execution_count": null,
   "id": "5d0fc683",
   "metadata": {},
   "outputs": [],
   "source": []
  },
  {
   "cell_type": "markdown",
   "id": "9fb18277",
   "metadata": {},
   "source": [
    "## Vanilla RNN"
   ]
  },
  {
   "cell_type": "markdown",
   "id": "b8f9292c",
   "metadata": {},
   "source": [
    "### Model Definition"
   ]
  },
  {
   "cell_type": "code",
   "execution_count": 586,
   "id": "ea403184",
   "metadata": {},
   "outputs": [],
   "source": [
    "class RNNClassifier(nn.Module):\n",
    "    def __init__(self, input_size, hidden_size, output_size, n_layers = 1):\n",
    "        super(RNNClassifier, self).__init__()\n",
    "        \n",
    "        self.hidden_size = hidden_size\n",
    "        self.n_layers = n_layers\n",
    "        # self.embedding = (input_size, hidden_size)\n",
    "        \n",
    "        # input_size might need to be hidden_size as well\n",
    "        self.rnn = torch.nn.RNN(input_size, hidden_size, nonlinearity='relu', batch_first = True, dropout = 0)\n",
    "        # MAYBE NEED TO ADD ANOTHER LINEAR LAYER\n",
    "        self.linear = torch.nn.Linear(hidden_size, output_size)\n",
    "        \n",
    "    def forward(self, sequences):\n",
    "\n",
    "        batch_size = sequences.size(0)\n",
    "    \n",
    "        #embedded = self.embedding(sequence)\n",
    "#         print(sequences.shape)\n",
    "        \n",
    "        hidden = self._init_hidden(batch_size)\n",
    "#         print(\"hidden1 shape: \", hidden.shape)\n",
    "        out, hidden = self.rnn(sequences, hidden) # embedded here for sequence if not commented out\n",
    "    \n",
    "        output, hidden = self.rnn(sequences)\n",
    "    \n",
    "    \n",
    "#         print(\"hidden2 shape: \", hidden.shape)\n",
    "#         print(\"output1 shape: \", out.shape)\n",
    "       \n",
    "        # out = out[:, -1]   # found from online for a certain error, might want to investigate further\n",
    "                            # refer to this for fix -> i think about three entries down\n",
    "                            # https://stackoverflow.com/questions/4493554/neural-network-always-produces-same-similar-outputs-for-any-input\n",
    "       \n",
    "        # out = out[:, -1, :] # this solution from https://discuss.pytorch.org/t/cross-entropy-loss-target-size-and-output-size-mismatch/99031/8\n",
    "                            # makes the loss huuuuggee\n",
    "        \n",
    "        # https://discuss.pytorch.org/t/valueerror-expected-target-size-32-7-got-torch-size-32/42409/4\n",
    "            # might have some useful information about this stuff\n",
    "        \n",
    "        \n",
    "        #out = out.contiguous().view(-1, self.hidden_size) # from second resource below\n",
    "                                                          # doesn't seem to work either\n",
    "#         print(\"out1 reshaped: \", out.reshape(-1, hidden_size))  # also doesn't seem to work\n",
    "#         out = self.linear(out.reshape(-1, hidden_size))\n",
    "        #scores = torch.nn.CrossEntropyLoss()\n",
    "    \n",
    "        hidden.squeeze_(0)\n",
    "        out = self.linear(hidden)\n",
    "        \n",
    "    \n",
    "#         print(\"output2 shape: \", out.shape)\n",
    "        return out, hidden\n",
    "    \n",
    "    def _init_hidden(self, batch_size):\n",
    "        hidden = torch.zeros(self.n_layers, batch_size, self.hidden_size)\n",
    "        return Variable(hidden)\n",
    "           "
   ]
  },
  {
   "cell_type": "code",
   "execution_count": 579,
   "id": "e1e55ea6",
   "metadata": {},
   "outputs": [],
   "source": [
    "# https://github.com/hunkim/PyTorchZeroToAll/blob/master/13_2_rnn_classification.py\n",
    "# - written with this, use the one below\n",
    "# https://blog.floydhub.com/a-beginners-guide-on-recurrent-neural-networks-with-pytorch/\n",
    "\n",
    "# TRY THIS\n",
    "# https://github.com/rasbt/stat453-deep-learning-ss21/blob/main/L15/1_lstm.ipynb\n",
    "\n"
   ]
  },
  {
   "cell_type": "code",
   "execution_count": null,
   "id": "54d769d5",
   "metadata": {},
   "outputs": [],
   "source": []
  },
  {
   "cell_type": "markdown",
   "id": "0eaf9973",
   "metadata": {},
   "source": [
    "### Model Training"
   ]
  },
  {
   "cell_type": "markdown",
   "id": "9ae28578",
   "metadata": {},
   "source": [
    "#### Training Function\n",
    "- https://pytorch.org/tutorials/beginner/blitz/cifar10_tutorial.html\n",
    "- https://www.geeksforgeeks.org/training-neural-networks-with-validation-using-pytorch/\n",
    "    - training with validation as well"
   ]
  },
  {
   "cell_type": "code",
   "execution_count": 580,
   "id": "94f6ee85",
   "metadata": {},
   "outputs": [],
   "source": [
    "# model parameters for instantiation\n",
    "input_size = seq_arrays.shape[2]\n",
    "hidden_size = 32\n",
    "output_size = 2\n",
    "n_layers = 1\n",
    "\n",
    "#instantiate model\n",
    "rnn = RNNClassifier(input_size, hidden_size, output_size, n_layers)\n",
    "\n",
    "loss_fn = torch.nn.CrossEntropyLoss() # SHOULD USE WEIGHT PARAMETER SINCE UNBALANCED\n",
    "learning_rate = 0.001\n",
    "\n",
    "optimizer = torch.optim.Adam(rnn.parameters(), lr=learning_rate)"
   ]
  },
  {
   "cell_type": "code",
   "execution_count": 581,
   "id": "d3a0db40",
   "metadata": {},
   "outputs": [
    {
     "data": {
      "text/plain": [
       "torch.Size([64, 2])"
      ]
     },
     "execution_count": 581,
     "metadata": {},
     "output_type": "execute_result"
    }
   ],
   "source": [
    "outputs.shape"
   ]
  },
  {
   "cell_type": "code",
   "execution_count": 582,
   "id": "1486d269",
   "metadata": {},
   "outputs": [
    {
     "name": "stdout",
     "output_type": "stream",
     "text": [
      "[1,  2000] loss: 0.182\n",
      "[2,  2000] loss: 0.172\n",
      "[3,  2000] loss: 0.171\n",
      "[4,  2000] loss: 0.171\n",
      "[5,  2000] loss: 0.171\n",
      "Finished Training\n"
     ]
    }
   ],
   "source": [
    "num_epochs = 5\n",
    "\n",
    "for epoch in range(num_epochs):  # loop over the dataset multiple times\n",
    "\n",
    "    running_loss = 0.0\n",
    "    for i, data in enumerate(train_dataloader, 0):\n",
    "        # get the inputs; data is a list of [inputs, labels]\n",
    "        inputs, labels = data\n",
    "        \n",
    "        #labels = labels.long() # convert to expected target datatype (Long which is equivalent to int here)\n",
    "        labels = labels.type(torch.LongTensor)\n",
    "\n",
    "        # zero the parameter gradients\n",
    "        optimizer.zero_grad()\n",
    "\n",
    "        # forward + backward + optimize\n",
    "        outputs, h = rnn(inputs)\n",
    "        \n",
    "#         outputs = outputs[:,154,0:2]\n",
    "        loss = loss_fn(outputs,labels.view(-1).long())\n",
    "#         loss = loss_fn(outputs, labels.reshape(-1))\n",
    "        loss.backward()\n",
    "        optimizer.step()\n",
    "\n",
    "        # print statistics\n",
    "        running_loss += loss.item()\n",
    "        if i % 2000 == 1999:    # print every 2000 mini-batches\n",
    "            print(f'[{epoch + 1}, {i + 1:5d}] loss: {running_loss / 2000:.3f}')\n",
    "            running_loss = 0.0\n",
    "\n",
    "print('Finished Training')"
   ]
  },
  {
   "cell_type": "code",
   "execution_count": 583,
   "id": "6dc72f3d",
   "metadata": {},
   "outputs": [
    {
     "name": "stdout",
     "output_type": "stream",
     "text": [
      "Accuracy of the network on the test images: 95 %\n"
     ]
    }
   ],
   "source": [
    "# correct = 0\n",
    "total = 0\n",
    "all_pred = []\n",
    "all_label = []\n",
    "\n",
    "# CAN USE TENSOR.TOPK() TO GET THE INDEX OF THE LARGEST OUTPUT\n",
    "\n",
    "# since we're not training, we don't need to calculate the gradients for our outputs\n",
    "with torch.no_grad():\n",
    "    for data in test_dataloader:\n",
    "        inputs, labels = data\n",
    "        # calculate outputs by running images through the network\n",
    "        outputs, h = rnn(inputs)\n",
    "        # the class with the highest energy is what we choose as prediction\n",
    "        _, predicted = torch.max(outputs, 1)\n",
    "        total += labels.size(0)\n",
    "        correct += (predicted == torch.reshape(labels, (-1,))).sum().item()\n",
    "\n",
    "print(f'Accuracy of the network on the test images: {100 * correct // total} %'.format(\"hey\"))"
   ]
  },
  {
   "cell_type": "markdown",
   "id": "6861f5f4",
   "metadata": {},
   "source": [
    "#### F1-Score"
   ]
  },
  {
   "cell_type": "code",
   "execution_count": null,
   "id": "d89f2d75",
   "metadata": {},
   "outputs": [],
   "source": []
  },
  {
   "cell_type": "code",
   "execution_count": 384,
   "id": "a29af1b8",
   "metadata": {},
   "outputs": [],
   "source": [
    "lb = []\n",
    "pred = []\n",
    "\n",
    "for l in labels:\n",
    "    lb.append(l.int())\n",
    "\n",
    "for p in predicted:\n",
    "    pred.append(p.int())"
   ]
  },
  {
   "cell_type": "code",
   "execution_count": null,
   "id": "92085edc",
   "metadata": {},
   "outputs": [],
   "source": [
    "a_list = [1, 9903, 7876, 9971, 2770, 2435, 10441, 9370, 2]\n",
    "tmp2 = torch.tensor(a_list, dtype=torch.int)"
   ]
  },
  {
   "cell_type": "code",
   "execution_count": null,
   "id": "cc96219f",
   "metadata": {},
   "outputs": [],
   "source": [
    "f1_rnn = F1Score(num_classes=2)\n",
    "f1_rnn(pred, lb)"
   ]
  },
  {
   "cell_type": "markdown",
   "id": "77bd0365",
   "metadata": {},
   "source": [
    "#### Parameters"
   ]
  },
  {
   "cell_type": "code",
   "execution_count": 114,
   "id": "4fb7bdf3",
   "metadata": {},
   "outputs": [],
   "source": []
  },
  {
   "cell_type": "code",
   "execution_count": 43,
   "id": "057373db",
   "metadata": {},
   "outputs": [
    {
     "data": {
      "text/plain": [
       "(203127, 155, 15)"
      ]
     },
     "execution_count": 43,
     "metadata": {},
     "output_type": "execute_result"
    }
   ],
   "source": [
    "seq_arrays.shape"
   ]
  },
  {
   "cell_type": "code",
   "execution_count": null,
   "id": "1e741bf6",
   "metadata": {},
   "outputs": [],
   "source": [
    "# parameters\n",
    "input_size = seq_arrays.shape[2]\n",
    "hidden_size = 32\n",
    "output_size = 2\n",
    "n_layers = 1\n",
    "batch_size = 256\n",
    "n_epochs = 5\n",
    "\n",
    "# instantiate the model\n",
    "rnn = RNNClassifier(input_size, hidden_size, output_size, n_layers = 1)"
   ]
  },
  {
   "cell_type": "code",
   "execution_count": null,
   "id": "5c9a260c",
   "metadata": {},
   "outputs": [],
   "source": []
  },
  {
   "cell_type": "markdown",
   "id": "1ddac46e",
   "metadata": {},
   "source": [
    "## LSTM"
   ]
  },
  {
   "cell_type": "markdown",
   "id": "ee762c72",
   "metadata": {},
   "source": [
    "### Model Definition\n",
    "- can try stacking lstm\n",
    "- dropout\n",
    "- bidirectional lstm (isn't really used for predicting the future)\n",
    "- cnn lstm hybrid"
   ]
  },
  {
   "cell_type": "code",
   "execution_count": null,
   "id": "7494fcc4",
   "metadata": {},
   "outputs": [],
   "source": [
    "class LSTMClassifier(nn.Module):\n",
    "    def __init__(self, input_size, hidden_size, output_size, n_layers = 1):\n",
    "        super(RNNClassifier, self).__init__()\n",
    "        \n",
    "        self.hidden_size = hidden_size\n",
    "        self.n_layers = n_layers\n",
    "        # self.embedding = (input_size, hidden_size)\n",
    "        \n",
    "        # input_size might need to be hidden_size as well\n",
    "        self.lstm = torch.nn.LSTM(input_size, hidden_size, nonlinearity='relu', batch_first = True, dropout = 0)\n",
    "        # MAYBE NEED TO ADD ANOTHER LINEAR LAYER\n",
    "        self.linear = torch.nn.Linear(hidden_size, output_size)\n",
    "        \n",
    "    def forward(self, sequences):\n",
    "\n",
    "        batch_size = sequences.size(0)\n",
    "    \n",
    "        #embedded = self.embedding(sequence)\n",
    "        \n",
    "        hidden = self._init_hidden(batch_size)\n",
    "        out, hidden = self.rnn(sequences, hidden) # embedded here for sequence if not commented out\n",
    "        out = out[:, -1]    # found from online for a certain error, might want to investigate further\n",
    "        out = self.linear(out)\n",
    "        #scores = torch.nn.CrossEntropyLoss()\n",
    "        return out, hidden\n",
    "    \n",
    "    def _init_hidden(self, batch_size):\n",
    "        hidden = torch.zeros(self.n_layers, batch_size, self.hidden_size)\n",
    "        return Variable(hidden)"
   ]
  },
  {
   "cell_type": "code",
   "execution_count": null,
   "id": "bac2bf12",
   "metadata": {},
   "outputs": [],
   "source": []
  },
  {
   "cell_type": "code",
   "execution_count": null,
   "id": "a3cc3b49",
   "metadata": {},
   "outputs": [],
   "source": []
  },
  {
   "cell_type": "markdown",
   "id": "0d09bd07",
   "metadata": {},
   "source": [
    "### Model Training"
   ]
  },
  {
   "cell_type": "code",
   "execution_count": null,
   "id": "7c7d5606",
   "metadata": {},
   "outputs": [],
   "source": []
  },
  {
   "cell_type": "code",
   "execution_count": null,
   "id": "7b5ce12a",
   "metadata": {},
   "outputs": [],
   "source": []
  },
  {
   "cell_type": "markdown",
   "id": "df876a23",
   "metadata": {},
   "source": [
    "## GRU"
   ]
  },
  {
   "cell_type": "markdown",
   "id": "46fd2192",
   "metadata": {},
   "source": [
    "### Model Definition"
   ]
  },
  {
   "cell_type": "code",
   "execution_count": null,
   "id": "0a44f4f3",
   "metadata": {},
   "outputs": [],
   "source": [
    "class GRUClassifier(nn.Module):\n",
    "    def __init__(self, input_size, hidden_size, output_size, n_layers = 1):\n",
    "        super(RNNClassifier, self).__init__()\n",
    "        \n",
    "        self.hidden_size = hidden_size\n",
    "        self.n_layers = n_layers\n",
    "        # self.embedding = (input_size, hidden_size)\n",
    "        \n",
    "        # input_size might need to be hidden_size as well\n",
    "        self.lstm = torch.nn.GRU(input_size, hidden_size, nonlinearity='relu', batch_first = True, dropout = 0)\n",
    "        # MAYBE NEED TO ADD ANOTHER LINEAR LAYER\n",
    "        self.linear = torch.nn.Linear(hidden_size, output_size)\n",
    "        \n",
    "    def forward(self, sequences):\n",
    "\n",
    "        batch_size = sequences.size(0)\n",
    "    \n",
    "        #embedded = self.embedding(sequence)\n",
    "        \n",
    "        hidden = self._init_hidden(batch_size)\n",
    "        out, hidden = self.rnn(sequences, hidden) # embedded here for sequence if not commented out\n",
    "        out = out[:, -1]    # found from online for a certain error, might want to investigate further\n",
    "        out = self.linear(out)\n",
    "        #scores = torch.nn.CrossEntropyLoss()\n",
    "        return out, hidden\n",
    "    \n",
    "    def _init_hidden(self, batch_size):\n",
    "        hidden = torch.zeros(self.n_layers, batch_size, self.hidden_size)\n",
    "        return Variable(hidden)"
   ]
  },
  {
   "cell_type": "code",
   "execution_count": null,
   "id": "755056c6",
   "metadata": {},
   "outputs": [],
   "source": []
  },
  {
   "cell_type": "markdown",
   "id": "e373dbe3",
   "metadata": {},
   "source": [
    "### Model Training"
   ]
  },
  {
   "cell_type": "code",
   "execution_count": null,
   "id": "17762192",
   "metadata": {},
   "outputs": [],
   "source": []
  },
  {
   "cell_type": "code",
   "execution_count": null,
   "id": "ba0a56ec",
   "metadata": {},
   "outputs": [],
   "source": [
    ">>> # Example of target with class indices\n",
    ">>> loss = nn.CrossEntropyLoss()\n",
    ">>> input = torch.randn(3, 5, requires_grad=True)\n",
    ">>> target = torch.empty(3, dtype=torch.long).random_(5)\n",
    ">>> output = loss(input, target)\n",
    ">>> output.backward()\n",
    ">>>\n",
    ">>> # Example of target with class probabilities\n",
    ">>> input = torch.randn(3, 5, requires_grad=True)\n",
    ">>> target = torch.randn(3, 5).softmax(dim=1)\n",
    ">>> output = loss(input, target)\n",
    ">>> output.backward()"
   ]
  },
  {
   "cell_type": "code",
   "execution_count": 445,
   "id": "4ffe0ac5",
   "metadata": {},
   "outputs": [],
   "source": [
    "loss = nn.CrossEntropyLoss()\n",
    "input = torch.randn(3, 5, requires_grad=True)\n",
    "target = torch.empty(3, dtype=torch.long).random_(5)\n",
    "output = loss(input, target)\n",
    "output.backward()"
   ]
  },
  {
   "cell_type": "code",
   "execution_count": 454,
   "id": "9f2cdd37",
   "metadata": {},
   "outputs": [
    {
     "data": {
      "text/plain": [
       "tensor([[ 0.0489, -1.5599, -0.9113, -0.2403, -0.4966],\n",
       "        [-0.0331, -0.3275,  0.9489, -1.0972,  0.4072],\n",
       "        [-0.6213, -0.8234, -0.9698,  0.1428, -0.2466]], requires_grad=True)"
      ]
     },
     "execution_count": 454,
     "metadata": {},
     "output_type": "execute_result"
    }
   ],
   "source": [
    "input"
   ]
  },
  {
   "cell_type": "code",
   "execution_count": 453,
   "id": "37f76983",
   "metadata": {},
   "outputs": [
    {
     "data": {
      "text/plain": [
       "torch.return_types.topk(\n",
       "values=tensor([[0.0489],\n",
       "        [0.9489],\n",
       "        [0.1428]], grad_fn=<TopkBackward0>),\n",
       "indices=tensor([[0],\n",
       "        [2],\n",
       "        [3]]))"
      ]
     },
     "execution_count": 453,
     "metadata": {},
     "output_type": "execute_result"
    }
   ],
   "source": [
    "torch.topk(input, 1)"
   ]
  },
  {
   "cell_type": "code",
   "execution_count": 465,
   "id": "ce0afc6f",
   "metadata": {},
   "outputs": [
    {
     "data": {
      "text/plain": [
       "torch.Size([3])"
      ]
     },
     "execution_count": 465,
     "metadata": {},
     "output_type": "execute_result"
    }
   ],
   "source": [
    "target.shape"
   ]
  },
  {
   "cell_type": "code",
   "execution_count": 464,
   "id": "2dd3b743",
   "metadata": {},
   "outputs": [
    {
     "data": {
      "text/plain": [
       "torch.Size([64, 1])"
      ]
     },
     "execution_count": 464,
     "metadata": {},
     "output_type": "execute_result"
    }
   ],
   "source": [
    "labels.shape"
   ]
  },
  {
   "cell_type": "code",
   "execution_count": null,
   "id": "ff83c222",
   "metadata": {},
   "outputs": [],
   "source": []
  },
  {
   "cell_type": "code",
   "execution_count": null,
   "id": "a368f19e",
   "metadata": {},
   "outputs": [],
   "source": []
  },
  {
   "cell_type": "code",
   "execution_count": null,
   "id": "9a075c5c",
   "metadata": {},
   "outputs": [],
   "source": []
  }
 ],
 "metadata": {
  "kernelspec": {
   "display_name": "Python 3",
   "language": "python",
   "name": "python3"
  },
  "language_info": {
   "codemirror_mode": {
    "name": "ipython",
    "version": 3
   },
   "file_extension": ".py",
   "mimetype": "text/x-python",
   "name": "python",
   "nbconvert_exporter": "python",
   "pygments_lexer": "ipython3",
   "version": "3.8.8"
  }
 },
 "nbformat": 4,
 "nbformat_minor": 5
}
